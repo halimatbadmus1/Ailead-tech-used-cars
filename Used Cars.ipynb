{
 "cells": [
  {
   "cell_type": "code",
   "execution_count": 1,
   "id": "39b96ff9",
   "metadata": {},
   "outputs": [],
   "source": [
    "#importing all necessary libraries\n",
    "import pandas as pd\n",
    "import numpy as np\n",
    "import matplotlib.pyplot as plt\n",
    "import seaborn as sns\n",
    "from sklearn.model_selection import train_test_split\n",
    "from sklearn.linear_model import LinearRegression, Ridge, Lasso\n",
    "from sklearn.preprocessing import StandardScaler\n",
    "from sklearn.metrics import mean_squared_error, r2_score, \\\n",
    "mean_absolute_error\n",
    "from sklearn.preprocessing import LabelEncoder"
   ]
  },
  {
   "cell_type": "code",
   "execution_count": 2,
   "id": "8c28c990",
   "metadata": {},
   "outputs": [],
   "source": [
    "#read in the data with pandas\n",
    "data = pd.read_csv('used_cars_data-1.csv')"
   ]
  },
  {
   "cell_type": "code",
   "execution_count": 3,
   "id": "1884d845",
   "metadata": {},
   "outputs": [],
   "source": [
    "#keeping a copy of the data\n",
    "df = data.copy()"
   ]
  },
  {
   "cell_type": "code",
   "execution_count": 4,
   "id": "acf0eaf3",
   "metadata": {
    "scrolled": true
   },
   "outputs": [
    {
     "data": {
      "text/html": [
       "<div>\n",
       "<style scoped>\n",
       "    .dataframe tbody tr th:only-of-type {\n",
       "        vertical-align: middle;\n",
       "    }\n",
       "\n",
       "    .dataframe tbody tr th {\n",
       "        vertical-align: top;\n",
       "    }\n",
       "\n",
       "    .dataframe thead th {\n",
       "        text-align: right;\n",
       "    }\n",
       "</style>\n",
       "<table border=\"1\" class=\"dataframe\">\n",
       "  <thead>\n",
       "    <tr style=\"text-align: right;\">\n",
       "      <th></th>\n",
       "      <th>S.No.</th>\n",
       "      <th>Name</th>\n",
       "      <th>Location</th>\n",
       "      <th>Year</th>\n",
       "      <th>Kilometers_Driven</th>\n",
       "      <th>Fuel_Type</th>\n",
       "      <th>Transmission</th>\n",
       "      <th>Owner_Type</th>\n",
       "      <th>Mileage</th>\n",
       "      <th>Engine</th>\n",
       "      <th>Power</th>\n",
       "      <th>Seats</th>\n",
       "      <th>New_Price</th>\n",
       "      <th>Price</th>\n",
       "    </tr>\n",
       "  </thead>\n",
       "  <tbody>\n",
       "    <tr>\n",
       "      <th>0</th>\n",
       "      <td>0</td>\n",
       "      <td>Maruti Wagon R LXI CNG</td>\n",
       "      <td>Mumbai</td>\n",
       "      <td>2010</td>\n",
       "      <td>72000</td>\n",
       "      <td>CNG</td>\n",
       "      <td>Manual</td>\n",
       "      <td>First</td>\n",
       "      <td>26.6 km/kg</td>\n",
       "      <td>998 CC</td>\n",
       "      <td>58.16 bhp</td>\n",
       "      <td>5.0</td>\n",
       "      <td>5.51</td>\n",
       "      <td>1.75</td>\n",
       "    </tr>\n",
       "    <tr>\n",
       "      <th>1</th>\n",
       "      <td>1</td>\n",
       "      <td>Hyundai Creta 1.6 CRDi SX Option</td>\n",
       "      <td>Pune</td>\n",
       "      <td>2015</td>\n",
       "      <td>41000</td>\n",
       "      <td>Diesel</td>\n",
       "      <td>Manual</td>\n",
       "      <td>First</td>\n",
       "      <td>19.67 kmpl</td>\n",
       "      <td>1582 CC</td>\n",
       "      <td>126.2 bhp</td>\n",
       "      <td>5.0</td>\n",
       "      <td>16.06</td>\n",
       "      <td>12.50</td>\n",
       "    </tr>\n",
       "    <tr>\n",
       "      <th>2</th>\n",
       "      <td>2</td>\n",
       "      <td>Honda Jazz V</td>\n",
       "      <td>Chennai</td>\n",
       "      <td>2011</td>\n",
       "      <td>46000</td>\n",
       "      <td>Petrol</td>\n",
       "      <td>Manual</td>\n",
       "      <td>First</td>\n",
       "      <td>18.2 kmpl</td>\n",
       "      <td>1199 CC</td>\n",
       "      <td>88.7 bhp</td>\n",
       "      <td>5.0</td>\n",
       "      <td>8.61</td>\n",
       "      <td>4.50</td>\n",
       "    </tr>\n",
       "    <tr>\n",
       "      <th>3</th>\n",
       "      <td>3</td>\n",
       "      <td>Maruti Ertiga VDI</td>\n",
       "      <td>Chennai</td>\n",
       "      <td>2012</td>\n",
       "      <td>87000</td>\n",
       "      <td>Diesel</td>\n",
       "      <td>Manual</td>\n",
       "      <td>First</td>\n",
       "      <td>20.77 kmpl</td>\n",
       "      <td>1248 CC</td>\n",
       "      <td>88.76 bhp</td>\n",
       "      <td>7.0</td>\n",
       "      <td>11.27</td>\n",
       "      <td>6.00</td>\n",
       "    </tr>\n",
       "    <tr>\n",
       "      <th>4</th>\n",
       "      <td>4</td>\n",
       "      <td>Audi A4 New 2.0 TDI Multitronic</td>\n",
       "      <td>Coimbatore</td>\n",
       "      <td>2013</td>\n",
       "      <td>40670</td>\n",
       "      <td>Diesel</td>\n",
       "      <td>Automatic</td>\n",
       "      <td>Second</td>\n",
       "      <td>15.2 kmpl</td>\n",
       "      <td>1968 CC</td>\n",
       "      <td>140.8 bhp</td>\n",
       "      <td>5.0</td>\n",
       "      <td>53.14</td>\n",
       "      <td>17.74</td>\n",
       "    </tr>\n",
       "    <tr>\n",
       "      <th>...</th>\n",
       "      <td>...</td>\n",
       "      <td>...</td>\n",
       "      <td>...</td>\n",
       "      <td>...</td>\n",
       "      <td>...</td>\n",
       "      <td>...</td>\n",
       "      <td>...</td>\n",
       "      <td>...</td>\n",
       "      <td>...</td>\n",
       "      <td>...</td>\n",
       "      <td>...</td>\n",
       "      <td>...</td>\n",
       "      <td>...</td>\n",
       "      <td>...</td>\n",
       "    </tr>\n",
       "    <tr>\n",
       "      <th>7248</th>\n",
       "      <td>7248</td>\n",
       "      <td>Volkswagen Vento Diesel Trendline</td>\n",
       "      <td>Hyderabad</td>\n",
       "      <td>2011</td>\n",
       "      <td>89411</td>\n",
       "      <td>Diesel</td>\n",
       "      <td>Manual</td>\n",
       "      <td>First</td>\n",
       "      <td>20.54 kmpl</td>\n",
       "      <td>1598 CC</td>\n",
       "      <td>103.6 bhp</td>\n",
       "      <td>5.0</td>\n",
       "      <td>13.23</td>\n",
       "      <td>NaN</td>\n",
       "    </tr>\n",
       "    <tr>\n",
       "      <th>7249</th>\n",
       "      <td>7249</td>\n",
       "      <td>Volkswagen Polo GT TSI</td>\n",
       "      <td>Mumbai</td>\n",
       "      <td>2015</td>\n",
       "      <td>59000</td>\n",
       "      <td>Petrol</td>\n",
       "      <td>Automatic</td>\n",
       "      <td>First</td>\n",
       "      <td>17.21 kmpl</td>\n",
       "      <td>1197 CC</td>\n",
       "      <td>103.6 bhp</td>\n",
       "      <td>5.0</td>\n",
       "      <td>10.15</td>\n",
       "      <td>NaN</td>\n",
       "    </tr>\n",
       "    <tr>\n",
       "      <th>7250</th>\n",
       "      <td>7250</td>\n",
       "      <td>Nissan Micra Diesel XV</td>\n",
       "      <td>Kolkata</td>\n",
       "      <td>2012</td>\n",
       "      <td>28000</td>\n",
       "      <td>Diesel</td>\n",
       "      <td>Manual</td>\n",
       "      <td>First</td>\n",
       "      <td>23.08 kmpl</td>\n",
       "      <td>1461 CC</td>\n",
       "      <td>63.1 bhp</td>\n",
       "      <td>5.0</td>\n",
       "      <td>9.47</td>\n",
       "      <td>NaN</td>\n",
       "    </tr>\n",
       "    <tr>\n",
       "      <th>7251</th>\n",
       "      <td>7251</td>\n",
       "      <td>Volkswagen Polo GT TSI</td>\n",
       "      <td>Pune</td>\n",
       "      <td>2013</td>\n",
       "      <td>52262</td>\n",
       "      <td>Petrol</td>\n",
       "      <td>Automatic</td>\n",
       "      <td>Third</td>\n",
       "      <td>17.2 kmpl</td>\n",
       "      <td>1197 CC</td>\n",
       "      <td>103.6 bhp</td>\n",
       "      <td>5.0</td>\n",
       "      <td>10.15</td>\n",
       "      <td>NaN</td>\n",
       "    </tr>\n",
       "    <tr>\n",
       "      <th>7252</th>\n",
       "      <td>7252</td>\n",
       "      <td>Mercedes-Benz E-Class 2009-2013 E 220 CDI Avan...</td>\n",
       "      <td>Kochi</td>\n",
       "      <td>2014</td>\n",
       "      <td>72443</td>\n",
       "      <td>Diesel</td>\n",
       "      <td>Automatic</td>\n",
       "      <td>First</td>\n",
       "      <td>10.0 kmpl</td>\n",
       "      <td>2148 CC</td>\n",
       "      <td>170 bhp</td>\n",
       "      <td>5.0</td>\n",
       "      <td>86.97</td>\n",
       "      <td>NaN</td>\n",
       "    </tr>\n",
       "  </tbody>\n",
       "</table>\n",
       "<p>7253 rows × 14 columns</p>\n",
       "</div>"
      ],
      "text/plain": [
       "      S.No.                                               Name    Location  \\\n",
       "0         0                             Maruti Wagon R LXI CNG      Mumbai   \n",
       "1         1                   Hyundai Creta 1.6 CRDi SX Option        Pune   \n",
       "2         2                                       Honda Jazz V     Chennai   \n",
       "3         3                                  Maruti Ertiga VDI     Chennai   \n",
       "4         4                    Audi A4 New 2.0 TDI Multitronic  Coimbatore   \n",
       "...     ...                                                ...         ...   \n",
       "7248   7248                  Volkswagen Vento Diesel Trendline   Hyderabad   \n",
       "7249   7249                             Volkswagen Polo GT TSI      Mumbai   \n",
       "7250   7250                             Nissan Micra Diesel XV     Kolkata   \n",
       "7251   7251                             Volkswagen Polo GT TSI        Pune   \n",
       "7252   7252  Mercedes-Benz E-Class 2009-2013 E 220 CDI Avan...       Kochi   \n",
       "\n",
       "      Year  Kilometers_Driven Fuel_Type Transmission Owner_Type     Mileage  \\\n",
       "0     2010              72000       CNG       Manual      First  26.6 km/kg   \n",
       "1     2015              41000    Diesel       Manual      First  19.67 kmpl   \n",
       "2     2011              46000    Petrol       Manual      First   18.2 kmpl   \n",
       "3     2012              87000    Diesel       Manual      First  20.77 kmpl   \n",
       "4     2013              40670    Diesel    Automatic     Second   15.2 kmpl   \n",
       "...    ...                ...       ...          ...        ...         ...   \n",
       "7248  2011              89411    Diesel       Manual      First  20.54 kmpl   \n",
       "7249  2015              59000    Petrol    Automatic      First  17.21 kmpl   \n",
       "7250  2012              28000    Diesel       Manual      First  23.08 kmpl   \n",
       "7251  2013              52262    Petrol    Automatic      Third   17.2 kmpl   \n",
       "7252  2014              72443    Diesel    Automatic      First   10.0 kmpl   \n",
       "\n",
       "       Engine      Power  Seats  New_Price  Price  \n",
       "0      998 CC  58.16 bhp    5.0       5.51   1.75  \n",
       "1     1582 CC  126.2 bhp    5.0      16.06  12.50  \n",
       "2     1199 CC   88.7 bhp    5.0       8.61   4.50  \n",
       "3     1248 CC  88.76 bhp    7.0      11.27   6.00  \n",
       "4     1968 CC  140.8 bhp    5.0      53.14  17.74  \n",
       "...       ...        ...    ...        ...    ...  \n",
       "7248  1598 CC  103.6 bhp    5.0      13.23    NaN  \n",
       "7249  1197 CC  103.6 bhp    5.0      10.15    NaN  \n",
       "7250  1461 CC   63.1 bhp    5.0       9.47    NaN  \n",
       "7251  1197 CC  103.6 bhp    5.0      10.15    NaN  \n",
       "7252  2148 CC    170 bhp    5.0      86.97    NaN  \n",
       "\n",
       "[7253 rows x 14 columns]"
      ]
     },
     "execution_count": 4,
     "metadata": {},
     "output_type": "execute_result"
    }
   ],
   "source": [
    "#have a look at the data\n",
    "data"
   ]
  },
  {
   "cell_type": "code",
   "execution_count": 5,
   "id": "50726362",
   "metadata": {},
   "outputs": [],
   "source": [
    "#we will drop the serial number column as its not needed\n",
    "data.drop('S.No.', axis=1, inplace=True)\n"
   ]
  },
  {
   "cell_type": "code",
   "execution_count": 6,
   "id": "959a874b",
   "metadata": {},
   "outputs": [
    {
     "data": {
      "text/plain": [
       "Name                    0\n",
       "Location                0\n",
       "Year                    0\n",
       "Kilometers_Driven       0\n",
       "Fuel_Type               0\n",
       "Transmission            0\n",
       "Owner_Type              0\n",
       "Mileage                 2\n",
       "Engine                 46\n",
       "Power                 175\n",
       "Seats                  53\n",
       "New_Price               0\n",
       "Price                1234\n",
       "dtype: int64"
      ]
     },
     "execution_count": 6,
     "metadata": {},
     "output_type": "execute_result"
    }
   ],
   "source": [
    "#check for null or missing values\n",
    "data.isnull().sum()"
   ]
  },
  {
   "cell_type": "code",
   "execution_count": 7,
   "id": "9cf23f47",
   "metadata": {},
   "outputs": [
    {
     "name": "stdout",
     "output_type": "stream",
     "text": [
      "<class 'pandas.core.frame.DataFrame'>\n",
      "RangeIndex: 7253 entries, 0 to 7252\n",
      "Data columns (total 13 columns):\n",
      " #   Column             Non-Null Count  Dtype  \n",
      "---  ------             --------------  -----  \n",
      " 0   Name               7253 non-null   object \n",
      " 1   Location           7253 non-null   object \n",
      " 2   Year               7253 non-null   int64  \n",
      " 3   Kilometers_Driven  7253 non-null   int64  \n",
      " 4   Fuel_Type          7253 non-null   object \n",
      " 5   Transmission       7253 non-null   object \n",
      " 6   Owner_Type         7253 non-null   object \n",
      " 7   Mileage            7251 non-null   object \n",
      " 8   Engine             7207 non-null   object \n",
      " 9   Power              7078 non-null   object \n",
      " 10  Seats              7200 non-null   float64\n",
      " 11  New_Price          7253 non-null   float64\n",
      " 12  Price              6019 non-null   float64\n",
      "dtypes: float64(3), int64(2), object(8)\n",
      "memory usage: 736.8+ KB\n"
     ]
    }
   ],
   "source": [
    "#check for the info\n",
    "data.info()"
   ]
  },
  {
   "cell_type": "markdown",
   "id": "39d27ce0",
   "metadata": {},
   "source": [
    "Power,Engine and Mileage are of object data type, i will strip the SI units and conver to the appropriate data type"
   ]
  },
  {
   "cell_type": "code",
   "execution_count": 8,
   "id": "40c0ed49",
   "metadata": {},
   "outputs": [],
   "source": [
    "#stipping off the SI units of Power and converting to the appropriate data type\n",
    "data['Power']=pd.to_numeric(data['Power'].str.replace(\"bhp\", \"\"))"
   ]
  },
  {
   "cell_type": "code",
   "execution_count": 9,
   "id": "b5c86f57",
   "metadata": {},
   "outputs": [],
   "source": [
    "#stipping off the SI units of Engine and converting to the appropriate data type\n",
    "data['Engine']=pd.to_numeric(data['Engine'].str.replace(\"CC\", \"\"))"
   ]
  },
  {
   "cell_type": "code",
   "execution_count": 10,
   "id": "2d5d05e8",
   "metadata": {},
   "outputs": [
    {
     "name": "stdout",
     "output_type": "stream",
     "text": [
      "The number of rows with Kmpl : 7177 \n",
      "The number of rows with Km/Kg : 74 \n"
     ]
    }
   ],
   "source": [
    "#looking at the mileage colum, we have two si units for it\n",
    "kmkg = 0\n",
    "kmpl = 0\n",
    "for i in data['Mileage']:\n",
    "    if str(i).endswith(\"km/kg\"):\n",
    "        kmkg+=1\n",
    "    elif str(i).endswith(\"kmpl\"):\n",
    "        kmpl+=1\n",
    "print('The number of rows with Kmpl : {} '.format(kmpl))\n",
    "print('The number of rows with Km/Kg : {} '.format(kmkg))"
   ]
  },
  {
   "cell_type": "code",
   "execution_count": 11,
   "id": "1609d366",
   "metadata": {},
   "outputs": [
    {
     "data": {
      "text/plain": [
       "1"
      ]
     },
     "execution_count": 11,
     "metadata": {},
     "output_type": "execute_result"
    }
   ],
   "source": [
    "##checking duplicated values, we have duplicated values\n",
    "data.duplicated().sum()"
   ]
  },
  {
   "cell_type": "code",
   "execution_count": 12,
   "id": "4e035f1a",
   "metadata": {},
   "outputs": [],
   "source": [
    "#dropping the duplicated values\n",
    "data.drop_duplicates(inplace=True) "
   ]
  },
  {
   "cell_type": "code",
   "execution_count": 13,
   "id": "7b55786b",
   "metadata": {},
   "outputs": [
    {
     "data": {
      "text/plain": [
       "0"
      ]
     },
     "execution_count": 13,
     "metadata": {},
     "output_type": "execute_result"
    }
   ],
   "source": [
    "##checking duplicated values, we have duplicated values\n",
    "data.duplicated().sum()"
   ]
  },
  {
   "cell_type": "code",
   "execution_count": 14,
   "id": "4ea3ef30",
   "metadata": {},
   "outputs": [
    {
     "data": {
      "text/html": [
       "<div>\n",
       "<style scoped>\n",
       "    .dataframe tbody tr th:only-of-type {\n",
       "        vertical-align: middle;\n",
       "    }\n",
       "\n",
       "    .dataframe tbody tr th {\n",
       "        vertical-align: top;\n",
       "    }\n",
       "\n",
       "    .dataframe thead th {\n",
       "        text-align: right;\n",
       "    }\n",
       "</style>\n",
       "<table border=\"1\" class=\"dataframe\">\n",
       "  <thead>\n",
       "    <tr style=\"text-align: right;\">\n",
       "      <th></th>\n",
       "      <th>Name</th>\n",
       "      <th>Location</th>\n",
       "      <th>Year</th>\n",
       "      <th>Kilometers_Driven</th>\n",
       "      <th>Fuel_Type</th>\n",
       "      <th>Transmission</th>\n",
       "      <th>Owner_Type</th>\n",
       "      <th>Mileage</th>\n",
       "      <th>Engine</th>\n",
       "      <th>Power</th>\n",
       "      <th>Seats</th>\n",
       "      <th>New_Price</th>\n",
       "      <th>Price</th>\n",
       "    </tr>\n",
       "  </thead>\n",
       "  <tbody>\n",
       "    <tr>\n",
       "      <th>76</th>\n",
       "      <td>Ford Fiesta 1.4 SXi TDCi</td>\n",
       "      <td>Jaipur</td>\n",
       "      <td>2008</td>\n",
       "      <td>111111</td>\n",
       "      <td>Diesel</td>\n",
       "      <td>Manual</td>\n",
       "      <td>First</td>\n",
       "      <td>17.8 kmpl</td>\n",
       "      <td>1399.0</td>\n",
       "      <td>NaN</td>\n",
       "      <td>5.0</td>\n",
       "      <td>11.685</td>\n",
       "      <td>2.00</td>\n",
       "    </tr>\n",
       "    <tr>\n",
       "      <th>79</th>\n",
       "      <td>Hyundai Santro Xing XL</td>\n",
       "      <td>Hyderabad</td>\n",
       "      <td>2005</td>\n",
       "      <td>87591</td>\n",
       "      <td>Petrol</td>\n",
       "      <td>Manual</td>\n",
       "      <td>First</td>\n",
       "      <td>0.0 kmpl</td>\n",
       "      <td>1086.0</td>\n",
       "      <td>NaN</td>\n",
       "      <td>5.0</td>\n",
       "      <td>4.550</td>\n",
       "      <td>1.30</td>\n",
       "    </tr>\n",
       "    <tr>\n",
       "      <th>89</th>\n",
       "      <td>Hyundai Santro Xing XO</td>\n",
       "      <td>Hyderabad</td>\n",
       "      <td>2007</td>\n",
       "      <td>73745</td>\n",
       "      <td>Petrol</td>\n",
       "      <td>Manual</td>\n",
       "      <td>First</td>\n",
       "      <td>17.0 kmpl</td>\n",
       "      <td>1086.0</td>\n",
       "      <td>NaN</td>\n",
       "      <td>5.0</td>\n",
       "      <td>4.550</td>\n",
       "      <td>2.10</td>\n",
       "    </tr>\n",
       "    <tr>\n",
       "      <th>120</th>\n",
       "      <td>Hyundai Santro Xing XL eRLX Euro III</td>\n",
       "      <td>Mumbai</td>\n",
       "      <td>2005</td>\n",
       "      <td>102000</td>\n",
       "      <td>Petrol</td>\n",
       "      <td>Manual</td>\n",
       "      <td>Second</td>\n",
       "      <td>17.0 kmpl</td>\n",
       "      <td>1086.0</td>\n",
       "      <td>NaN</td>\n",
       "      <td>5.0</td>\n",
       "      <td>4.550</td>\n",
       "      <td>0.85</td>\n",
       "    </tr>\n",
       "    <tr>\n",
       "      <th>143</th>\n",
       "      <td>Hyundai Santro Xing XO eRLX Euro II</td>\n",
       "      <td>Kochi</td>\n",
       "      <td>2008</td>\n",
       "      <td>80759</td>\n",
       "      <td>Petrol</td>\n",
       "      <td>Manual</td>\n",
       "      <td>Third</td>\n",
       "      <td>17.0 kmpl</td>\n",
       "      <td>1086.0</td>\n",
       "      <td>NaN</td>\n",
       "      <td>5.0</td>\n",
       "      <td>4.550</td>\n",
       "      <td>1.67</td>\n",
       "    </tr>\n",
       "    <tr>\n",
       "      <th>...</th>\n",
       "      <td>...</td>\n",
       "      <td>...</td>\n",
       "      <td>...</td>\n",
       "      <td>...</td>\n",
       "      <td>...</td>\n",
       "      <td>...</td>\n",
       "      <td>...</td>\n",
       "      <td>...</td>\n",
       "      <td>...</td>\n",
       "      <td>...</td>\n",
       "      <td>...</td>\n",
       "      <td>...</td>\n",
       "      <td>...</td>\n",
       "    </tr>\n",
       "    <tr>\n",
       "      <th>6896</th>\n",
       "      <td>Toyota Etios Liva GD</td>\n",
       "      <td>Hyderabad</td>\n",
       "      <td>2013</td>\n",
       "      <td>86000</td>\n",
       "      <td>Diesel</td>\n",
       "      <td>Manual</td>\n",
       "      <td>First</td>\n",
       "      <td>23.59 kmpl</td>\n",
       "      <td>1364.0</td>\n",
       "      <td>NaN</td>\n",
       "      <td>5.0</td>\n",
       "      <td>8.525</td>\n",
       "      <td>NaN</td>\n",
       "    </tr>\n",
       "    <tr>\n",
       "      <th>6902</th>\n",
       "      <td>Toyota Etios Liva V</td>\n",
       "      <td>Kochi</td>\n",
       "      <td>2012</td>\n",
       "      <td>59311</td>\n",
       "      <td>Petrol</td>\n",
       "      <td>Manual</td>\n",
       "      <td>First</td>\n",
       "      <td>18.3 kmpl</td>\n",
       "      <td>NaN</td>\n",
       "      <td>NaN</td>\n",
       "      <td>NaN</td>\n",
       "      <td>8.525</td>\n",
       "      <td>NaN</td>\n",
       "    </tr>\n",
       "    <tr>\n",
       "      <th>6947</th>\n",
       "      <td>Toyota Etios Liva G</td>\n",
       "      <td>Delhi</td>\n",
       "      <td>2012</td>\n",
       "      <td>77800</td>\n",
       "      <td>Petrol</td>\n",
       "      <td>Manual</td>\n",
       "      <td>First</td>\n",
       "      <td>18.3 kmpl</td>\n",
       "      <td>1197.0</td>\n",
       "      <td>NaN</td>\n",
       "      <td>5.0</td>\n",
       "      <td>8.525</td>\n",
       "      <td>NaN</td>\n",
       "    </tr>\n",
       "    <tr>\n",
       "      <th>7092</th>\n",
       "      <td>Hyundai Santro Xing XG AT eRLX Euro III</td>\n",
       "      <td>Coimbatore</td>\n",
       "      <td>2007</td>\n",
       "      <td>64168</td>\n",
       "      <td>Petrol</td>\n",
       "      <td>Automatic</td>\n",
       "      <td>First</td>\n",
       "      <td>17.0 kmpl</td>\n",
       "      <td>1086.0</td>\n",
       "      <td>NaN</td>\n",
       "      <td>5.0</td>\n",
       "      <td>4.550</td>\n",
       "      <td>NaN</td>\n",
       "    </tr>\n",
       "    <tr>\n",
       "      <th>7145</th>\n",
       "      <td>Toyota Etios Liva G</td>\n",
       "      <td>Kolkata</td>\n",
       "      <td>2012</td>\n",
       "      <td>37212</td>\n",
       "      <td>Petrol</td>\n",
       "      <td>Manual</td>\n",
       "      <td>First</td>\n",
       "      <td>18.3 kmpl</td>\n",
       "      <td>1197.0</td>\n",
       "      <td>NaN</td>\n",
       "      <td>5.0</td>\n",
       "      <td>8.525</td>\n",
       "      <td>NaN</td>\n",
       "    </tr>\n",
       "  </tbody>\n",
       "</table>\n",
       "<p>175 rows × 13 columns</p>\n",
       "</div>"
      ],
      "text/plain": [
       "                                         Name    Location  Year  \\\n",
       "76                   Ford Fiesta 1.4 SXi TDCi      Jaipur  2008   \n",
       "79                     Hyundai Santro Xing XL   Hyderabad  2005   \n",
       "89                     Hyundai Santro Xing XO   Hyderabad  2007   \n",
       "120      Hyundai Santro Xing XL eRLX Euro III      Mumbai  2005   \n",
       "143       Hyundai Santro Xing XO eRLX Euro II       Kochi  2008   \n",
       "...                                       ...         ...   ...   \n",
       "6896                     Toyota Etios Liva GD   Hyderabad  2013   \n",
       "6902                      Toyota Etios Liva V       Kochi  2012   \n",
       "6947                      Toyota Etios Liva G       Delhi  2012   \n",
       "7092  Hyundai Santro Xing XG AT eRLX Euro III  Coimbatore  2007   \n",
       "7145                      Toyota Etios Liva G     Kolkata  2012   \n",
       "\n",
       "      Kilometers_Driven Fuel_Type Transmission Owner_Type     Mileage  Engine  \\\n",
       "76               111111    Diesel       Manual      First   17.8 kmpl  1399.0   \n",
       "79                87591    Petrol       Manual      First    0.0 kmpl  1086.0   \n",
       "89                73745    Petrol       Manual      First   17.0 kmpl  1086.0   \n",
       "120              102000    Petrol       Manual     Second   17.0 kmpl  1086.0   \n",
       "143               80759    Petrol       Manual      Third   17.0 kmpl  1086.0   \n",
       "...                 ...       ...          ...        ...         ...     ...   \n",
       "6896              86000    Diesel       Manual      First  23.59 kmpl  1364.0   \n",
       "6902              59311    Petrol       Manual      First   18.3 kmpl     NaN   \n",
       "6947              77800    Petrol       Manual      First   18.3 kmpl  1197.0   \n",
       "7092              64168    Petrol    Automatic      First   17.0 kmpl  1086.0   \n",
       "7145              37212    Petrol       Manual      First   18.3 kmpl  1197.0   \n",
       "\n",
       "      Power  Seats  New_Price  Price  \n",
       "76      NaN    5.0     11.685   2.00  \n",
       "79      NaN    5.0      4.550   1.30  \n",
       "89      NaN    5.0      4.550   2.10  \n",
       "120     NaN    5.0      4.550   0.85  \n",
       "143     NaN    5.0      4.550   1.67  \n",
       "...     ...    ...        ...    ...  \n",
       "6896    NaN    5.0      8.525    NaN  \n",
       "6902    NaN    NaN      8.525    NaN  \n",
       "6947    NaN    5.0      8.525    NaN  \n",
       "7092    NaN    5.0      4.550    NaN  \n",
       "7145    NaN    5.0      8.525    NaN  \n",
       "\n",
       "[175 rows x 13 columns]"
      ]
     },
     "execution_count": 14,
     "metadata": {},
     "output_type": "execute_result"
    }
   ],
   "source": [
    "#having a look into the missing values\n",
    "data[data['Power'].isnull()]"
   ]
  },
  {
   "cell_type": "code",
   "execution_count": 15,
   "id": "d82aeb64",
   "metadata": {},
   "outputs": [
    {
     "data": {
      "text/html": [
       "<div>\n",
       "<style scoped>\n",
       "    .dataframe tbody tr th:only-of-type {\n",
       "        vertical-align: middle;\n",
       "    }\n",
       "\n",
       "    .dataframe tbody tr th {\n",
       "        vertical-align: top;\n",
       "    }\n",
       "\n",
       "    .dataframe thead th {\n",
       "        text-align: right;\n",
       "    }\n",
       "</style>\n",
       "<table border=\"1\" class=\"dataframe\">\n",
       "  <thead>\n",
       "    <tr style=\"text-align: right;\">\n",
       "      <th></th>\n",
       "      <th>Year</th>\n",
       "      <th>Kilometers_Driven</th>\n",
       "      <th>Engine</th>\n",
       "      <th>Power</th>\n",
       "      <th>Seats</th>\n",
       "      <th>New_Price</th>\n",
       "      <th>Price</th>\n",
       "    </tr>\n",
       "  </thead>\n",
       "  <tbody>\n",
       "    <tr>\n",
       "      <th>Year</th>\n",
       "      <td>1.000000</td>\n",
       "      <td>-0.187884</td>\n",
       "      <td>-0.054726</td>\n",
       "      <td>0.013448</td>\n",
       "      <td>0.008166</td>\n",
       "      <td>-0.006323</td>\n",
       "      <td>0.305327</td>\n",
       "    </tr>\n",
       "    <tr>\n",
       "      <th>Kilometers_Driven</th>\n",
       "      <td>-0.187884</td>\n",
       "      <td>1.000000</td>\n",
       "      <td>0.094816</td>\n",
       "      <td>0.030165</td>\n",
       "      <td>0.090218</td>\n",
       "      <td>0.015497</td>\n",
       "      <td>-0.011493</td>\n",
       "    </tr>\n",
       "    <tr>\n",
       "      <th>Engine</th>\n",
       "      <td>-0.054726</td>\n",
       "      <td>0.094816</td>\n",
       "      <td>1.000000</td>\n",
       "      <td>0.859777</td>\n",
       "      <td>0.399256</td>\n",
       "      <td>0.697206</td>\n",
       "      <td>0.658354</td>\n",
       "    </tr>\n",
       "    <tr>\n",
       "      <th>Power</th>\n",
       "      <td>0.013448</td>\n",
       "      <td>0.030165</td>\n",
       "      <td>0.859777</td>\n",
       "      <td>1.000000</td>\n",
       "      <td>0.095910</td>\n",
       "      <td>0.803484</td>\n",
       "      <td>0.772566</td>\n",
       "    </tr>\n",
       "    <tr>\n",
       "      <th>Seats</th>\n",
       "      <td>0.008166</td>\n",
       "      <td>0.090218</td>\n",
       "      <td>0.399256</td>\n",
       "      <td>0.095910</td>\n",
       "      <td>1.000000</td>\n",
       "      <td>0.037504</td>\n",
       "      <td>0.052225</td>\n",
       "    </tr>\n",
       "    <tr>\n",
       "      <th>New_Price</th>\n",
       "      <td>-0.006323</td>\n",
       "      <td>0.015497</td>\n",
       "      <td>0.697206</td>\n",
       "      <td>0.803484</td>\n",
       "      <td>0.037504</td>\n",
       "      <td>1.000000</td>\n",
       "      <td>0.763362</td>\n",
       "    </tr>\n",
       "    <tr>\n",
       "      <th>Price</th>\n",
       "      <td>0.305327</td>\n",
       "      <td>-0.011493</td>\n",
       "      <td>0.658354</td>\n",
       "      <td>0.772566</td>\n",
       "      <td>0.052225</td>\n",
       "      <td>0.763362</td>\n",
       "      <td>1.000000</td>\n",
       "    </tr>\n",
       "  </tbody>\n",
       "</table>\n",
       "</div>"
      ],
      "text/plain": [
       "                       Year  Kilometers_Driven    Engine     Power     Seats  \\\n",
       "Year               1.000000          -0.187884 -0.054726  0.013448  0.008166   \n",
       "Kilometers_Driven -0.187884           1.000000  0.094816  0.030165  0.090218   \n",
       "Engine            -0.054726           0.094816  1.000000  0.859777  0.399256   \n",
       "Power              0.013448           0.030165  0.859777  1.000000  0.095910   \n",
       "Seats              0.008166           0.090218  0.399256  0.095910  1.000000   \n",
       "New_Price         -0.006323           0.015497  0.697206  0.803484  0.037504   \n",
       "Price              0.305327          -0.011493  0.658354  0.772566  0.052225   \n",
       "\n",
       "                   New_Price     Price  \n",
       "Year               -0.006323  0.305327  \n",
       "Kilometers_Driven   0.015497 -0.011493  \n",
       "Engine              0.697206  0.658354  \n",
       "Power               0.803484  0.772566  \n",
       "Seats               0.037504  0.052225  \n",
       "New_Price           1.000000  0.763362  \n",
       "Price               0.763362  1.000000  "
      ]
     },
     "execution_count": 15,
     "metadata": {},
     "output_type": "execute_result"
    }
   ],
   "source": [
    "#lets see how correlated the variables are\n",
    "data.corr()"
   ]
  },
  {
   "cell_type": "code",
   "execution_count": 16,
   "id": "c5f6efdc",
   "metadata": {},
   "outputs": [
    {
     "data": {
      "image/png": "[encoded data removed]",
      "text/plain": [
       "<Figure size 432x288 with 2 Axes>"
      ]
     },
     "metadata": {
      "needs_background": "light"
     },
     "output_type": "display_data"
    }
   ],
   "source": [
    "# plotting correlation heatmap\n",
    "dataplot = sns.heatmap(data.corr(), cmap=\"YlGnBu\", annot=True)\n",
    "  \n",
    "# displaying heatmap\n",
    "plt.show()"
   ]
  },
  {
   "cell_type": "code",
   "execution_count": 17,
   "id": "cea241b5",
   "metadata": {},
   "outputs": [
    {
     "data": {
      "text/plain": [
       "0       26.6 km/kg\n",
       "1       19.67 kmpl\n",
       "2        18.2 kmpl\n",
       "3       20.77 kmpl\n",
       "4        15.2 kmpl\n",
       "           ...    \n",
       "7248    20.54 kmpl\n",
       "7249    17.21 kmpl\n",
       "7250    23.08 kmpl\n",
       "7251     17.2 kmpl\n",
       "7252     10.0 kmpl\n",
       "Name: Mileage, Length: 7252, dtype: object"
      ]
     },
     "execution_count": 17,
     "metadata": {},
     "output_type": "execute_result"
    }
   ],
   "source": [
    "#calling the mileage column\n",
    "data['Mileage']"
   ]
  },
  {
   "cell_type": "code",
   "execution_count": 18,
   "id": "f02649b2",
   "metadata": {},
   "outputs": [
    {
     "name": "stdout",
     "output_type": "stream",
     "text": [
      "<class 'pandas.core.frame.DataFrame'>\n",
      "Int64Index: 7252 entries, 0 to 7252\n",
      "Data columns (total 13 columns):\n",
      " #   Column             Non-Null Count  Dtype  \n",
      "---  ------             --------------  -----  \n",
      " 0   Name               7252 non-null   object \n",
      " 1   Location           7252 non-null   object \n",
      " 2   Year               7252 non-null   int64  \n",
      " 3   Kilometers_Driven  7252 non-null   int64  \n",
      " 4   Fuel_Type          7252 non-null   object \n",
      " 5   Transmission       7252 non-null   object \n",
      " 6   Owner_Type         7252 non-null   object \n",
      " 7   Mileage            7250 non-null   object \n",
      " 8   Engine             7206 non-null   float64\n",
      " 9   Power              7077 non-null   float64\n",
      " 10  Seats              7199 non-null   float64\n",
      " 11  New_Price          7252 non-null   float64\n",
      " 12  Price              6019 non-null   float64\n",
      "dtypes: float64(5), int64(2), object(6)\n",
      "memory usage: 793.2+ KB\n"
     ]
    }
   ],
   "source": [
    "data.info()"
   ]
  },
  {
   "cell_type": "code",
   "execution_count": 19,
   "id": "5580201a",
   "metadata": {},
   "outputs": [],
   "source": [
    "#fixing mileage\n",
    "New_Mileage= []\n",
    "for i in data.Mileage:\n",
    "    if str(i).endswith('km/kg'):\n",
    "        i = i[:-5]\n",
    "        i = float(i)*1.40\n",
    "        New_Mileage.append(float(i))\n",
    "    elif str(i).endswith('kmpl'):\n",
    "        i = i[:-5]\n",
    "        New_Mileage.append(float(i))\n",
    "        #print(i)"
   ]
  },
  {
   "cell_type": "code",
   "execution_count": 20,
   "id": "34fc5930",
   "metadata": {},
   "outputs": [
    {
     "data": {
      "text/html": [
       "<div>\n",
       "<style scoped>\n",
       "    .dataframe tbody tr th:only-of-type {\n",
       "        vertical-align: middle;\n",
       "    }\n",
       "\n",
       "    .dataframe tbody tr th {\n",
       "        vertical-align: top;\n",
       "    }\n",
       "\n",
       "    .dataframe thead th {\n",
       "        text-align: right;\n",
       "    }\n",
       "</style>\n",
       "<table border=\"1\" class=\"dataframe\">\n",
       "  <thead>\n",
       "    <tr style=\"text-align: right;\">\n",
       "      <th></th>\n",
       "      <th>0</th>\n",
       "      <th>1</th>\n",
       "    </tr>\n",
       "  </thead>\n",
       "  <tbody>\n",
       "    <tr>\n",
       "      <th>0</th>\n",
       "      <td>26.6</td>\n",
       "      <td>km/kg</td>\n",
       "    </tr>\n",
       "    <tr>\n",
       "      <th>1</th>\n",
       "      <td>19.67</td>\n",
       "      <td>kmpl</td>\n",
       "    </tr>\n",
       "    <tr>\n",
       "      <th>2</th>\n",
       "      <td>18.2</td>\n",
       "      <td>kmpl</td>\n",
       "    </tr>\n",
       "    <tr>\n",
       "      <th>3</th>\n",
       "      <td>20.77</td>\n",
       "      <td>kmpl</td>\n",
       "    </tr>\n",
       "    <tr>\n",
       "      <th>4</th>\n",
       "      <td>15.2</td>\n",
       "      <td>kmpl</td>\n",
       "    </tr>\n",
       "  </tbody>\n",
       "</table>\n",
       "</div>"
      ],
      "text/plain": [
       "       0      1\n",
       "0   26.6  km/kg\n",
       "1  19.67   kmpl\n",
       "2   18.2   kmpl\n",
       "3  20.77   kmpl\n",
       "4   15.2   kmpl"
      ]
     },
     "execution_count": 20,
     "metadata": {},
     "output_type": "execute_result"
    }
   ],
   "source": [
    "#spliting the numeric and unit\n",
    "split_mileage = data['Mileage'].str.split(\" \", n = 1, expand = True)\n",
    "split_mileage.head()"
   ]
  },
  {
   "cell_type": "code",
   "execution_count": 21,
   "id": "b8eb50a9",
   "metadata": {},
   "outputs": [],
   "source": [
    "#assigning the numeric part of mileage to the column after splitting\n",
    "data['Mileage'] = split_mileage[0]"
   ]
  },
  {
   "cell_type": "code",
   "execution_count": 22,
   "id": "281132f8",
   "metadata": {},
   "outputs": [
    {
     "data": {
      "text/html": [
       "<div>\n",
       "<style scoped>\n",
       "    .dataframe tbody tr th:only-of-type {\n",
       "        vertical-align: middle;\n",
       "    }\n",
       "\n",
       "    .dataframe tbody tr th {\n",
       "        vertical-align: top;\n",
       "    }\n",
       "\n",
       "    .dataframe thead th {\n",
       "        text-align: right;\n",
       "    }\n",
       "</style>\n",
       "<table border=\"1\" class=\"dataframe\">\n",
       "  <thead>\n",
       "    <tr style=\"text-align: right;\">\n",
       "      <th></th>\n",
       "      <th>Name</th>\n",
       "      <th>Location</th>\n",
       "      <th>Year</th>\n",
       "      <th>Kilometers_Driven</th>\n",
       "      <th>Fuel_Type</th>\n",
       "      <th>Transmission</th>\n",
       "      <th>Owner_Type</th>\n",
       "      <th>Mileage</th>\n",
       "      <th>Engine</th>\n",
       "      <th>Power</th>\n",
       "      <th>Seats</th>\n",
       "      <th>New_Price</th>\n",
       "      <th>Price</th>\n",
       "    </tr>\n",
       "  </thead>\n",
       "  <tbody>\n",
       "    <tr>\n",
       "      <th>0</th>\n",
       "      <td>Maruti Wagon R LXI CNG</td>\n",
       "      <td>Mumbai</td>\n",
       "      <td>2010</td>\n",
       "      <td>72000</td>\n",
       "      <td>CNG</td>\n",
       "      <td>Manual</td>\n",
       "      <td>First</td>\n",
       "      <td>26.6</td>\n",
       "      <td>998.0</td>\n",
       "      <td>58.16</td>\n",
       "      <td>5.0</td>\n",
       "      <td>5.51</td>\n",
       "      <td>1.75</td>\n",
       "    </tr>\n",
       "    <tr>\n",
       "      <th>1</th>\n",
       "      <td>Hyundai Creta 1.6 CRDi SX Option</td>\n",
       "      <td>Pune</td>\n",
       "      <td>2015</td>\n",
       "      <td>41000</td>\n",
       "      <td>Diesel</td>\n",
       "      <td>Manual</td>\n",
       "      <td>First</td>\n",
       "      <td>19.67</td>\n",
       "      <td>1582.0</td>\n",
       "      <td>126.20</td>\n",
       "      <td>5.0</td>\n",
       "      <td>16.06</td>\n",
       "      <td>12.50</td>\n",
       "    </tr>\n",
       "    <tr>\n",
       "      <th>2</th>\n",
       "      <td>Honda Jazz V</td>\n",
       "      <td>Chennai</td>\n",
       "      <td>2011</td>\n",
       "      <td>46000</td>\n",
       "      <td>Petrol</td>\n",
       "      <td>Manual</td>\n",
       "      <td>First</td>\n",
       "      <td>18.2</td>\n",
       "      <td>1199.0</td>\n",
       "      <td>88.70</td>\n",
       "      <td>5.0</td>\n",
       "      <td>8.61</td>\n",
       "      <td>4.50</td>\n",
       "    </tr>\n",
       "    <tr>\n",
       "      <th>3</th>\n",
       "      <td>Maruti Ertiga VDI</td>\n",
       "      <td>Chennai</td>\n",
       "      <td>2012</td>\n",
       "      <td>87000</td>\n",
       "      <td>Diesel</td>\n",
       "      <td>Manual</td>\n",
       "      <td>First</td>\n",
       "      <td>20.77</td>\n",
       "      <td>1248.0</td>\n",
       "      <td>88.76</td>\n",
       "      <td>7.0</td>\n",
       "      <td>11.27</td>\n",
       "      <td>6.00</td>\n",
       "    </tr>\n",
       "    <tr>\n",
       "      <th>4</th>\n",
       "      <td>Audi A4 New 2.0 TDI Multitronic</td>\n",
       "      <td>Coimbatore</td>\n",
       "      <td>2013</td>\n",
       "      <td>40670</td>\n",
       "      <td>Diesel</td>\n",
       "      <td>Automatic</td>\n",
       "      <td>Second</td>\n",
       "      <td>15.2</td>\n",
       "      <td>1968.0</td>\n",
       "      <td>140.80</td>\n",
       "      <td>5.0</td>\n",
       "      <td>53.14</td>\n",
       "      <td>17.74</td>\n",
       "    </tr>\n",
       "  </tbody>\n",
       "</table>\n",
       "</div>"
      ],
      "text/plain": [
       "                               Name    Location  Year  Kilometers_Driven  \\\n",
       "0            Maruti Wagon R LXI CNG      Mumbai  2010              72000   \n",
       "1  Hyundai Creta 1.6 CRDi SX Option        Pune  2015              41000   \n",
       "2                      Honda Jazz V     Chennai  2011              46000   \n",
       "3                 Maruti Ertiga VDI     Chennai  2012              87000   \n",
       "4   Audi A4 New 2.0 TDI Multitronic  Coimbatore  2013              40670   \n",
       "\n",
       "  Fuel_Type Transmission Owner_Type Mileage  Engine   Power  Seats  New_Price  \\\n",
       "0       CNG       Manual      First    26.6   998.0   58.16    5.0       5.51   \n",
       "1    Diesel       Manual      First   19.67  1582.0  126.20    5.0      16.06   \n",
       "2    Petrol       Manual      First    18.2  1199.0   88.70    5.0       8.61   \n",
       "3    Diesel       Manual      First   20.77  1248.0   88.76    7.0      11.27   \n",
       "4    Diesel    Automatic     Second    15.2  1968.0  140.80    5.0      53.14   \n",
       "\n",
       "   Price  \n",
       "0   1.75  \n",
       "1  12.50  \n",
       "2   4.50  \n",
       "3   6.00  \n",
       "4  17.74  "
      ]
     },
     "execution_count": 22,
     "metadata": {},
     "output_type": "execute_result"
    }
   ],
   "source": [
    "data.head()"
   ]
  },
  {
   "cell_type": "code",
   "execution_count": 23,
   "id": "0e98b53f",
   "metadata": {},
   "outputs": [
    {
     "data": {
      "text/plain": [
       "Name                    0\n",
       "Location                0\n",
       "Year                    0\n",
       "Kilometers_Driven       0\n",
       "Fuel_Type               0\n",
       "Transmission            0\n",
       "Owner_Type              0\n",
       "Mileage                 2\n",
       "Engine                 46\n",
       "Power                 175\n",
       "Seats                  53\n",
       "New_Price               0\n",
       "Price                1233\n",
       "dtype: int64"
      ]
     },
     "execution_count": 23,
     "metadata": {},
     "output_type": "execute_result"
    }
   ],
   "source": [
    "data.isnull().sum()"
   ]
  },
  {
   "cell_type": "code",
   "execution_count": 24,
   "id": "4b92d6be",
   "metadata": {},
   "outputs": [
    {
     "data": {
      "text/html": [
       "<div>\n",
       "<style scoped>\n",
       "    .dataframe tbody tr th:only-of-type {\n",
       "        vertical-align: middle;\n",
       "    }\n",
       "\n",
       "    .dataframe tbody tr th {\n",
       "        vertical-align: top;\n",
       "    }\n",
       "\n",
       "    .dataframe thead th {\n",
       "        text-align: right;\n",
       "    }\n",
       "</style>\n",
       "<table border=\"1\" class=\"dataframe\">\n",
       "  <thead>\n",
       "    <tr style=\"text-align: right;\">\n",
       "      <th></th>\n",
       "      <th>Name</th>\n",
       "      <th>Location</th>\n",
       "      <th>Year</th>\n",
       "      <th>Kilometers_Driven</th>\n",
       "      <th>Fuel_Type</th>\n",
       "      <th>Transmission</th>\n",
       "      <th>Owner_Type</th>\n",
       "      <th>Mileage</th>\n",
       "      <th>Engine</th>\n",
       "      <th>Power</th>\n",
       "      <th>Seats</th>\n",
       "      <th>New_Price</th>\n",
       "      <th>Price</th>\n",
       "    </tr>\n",
       "  </thead>\n",
       "  <tbody>\n",
       "    <tr>\n",
       "      <th>4446</th>\n",
       "      <td>Mahindra E Verito D4</td>\n",
       "      <td>Chennai</td>\n",
       "      <td>2016</td>\n",
       "      <td>50000</td>\n",
       "      <td>Electric</td>\n",
       "      <td>Automatic</td>\n",
       "      <td>First</td>\n",
       "      <td>NaN</td>\n",
       "      <td>72.0</td>\n",
       "      <td>41.0</td>\n",
       "      <td>5.0</td>\n",
       "      <td>13.58</td>\n",
       "      <td>13.00</td>\n",
       "    </tr>\n",
       "    <tr>\n",
       "      <th>4904</th>\n",
       "      <td>Toyota Prius 2009-2016 Z4</td>\n",
       "      <td>Mumbai</td>\n",
       "      <td>2011</td>\n",
       "      <td>44000</td>\n",
       "      <td>Electric</td>\n",
       "      <td>Automatic</td>\n",
       "      <td>First</td>\n",
       "      <td>NaN</td>\n",
       "      <td>1798.0</td>\n",
       "      <td>73.0</td>\n",
       "      <td>5.0</td>\n",
       "      <td>24.01</td>\n",
       "      <td>12.75</td>\n",
       "    </tr>\n",
       "  </tbody>\n",
       "</table>\n",
       "</div>"
      ],
      "text/plain": [
       "                           Name Location  Year  Kilometers_Driven Fuel_Type  \\\n",
       "4446       Mahindra E Verito D4  Chennai  2016              50000  Electric   \n",
       "4904  Toyota Prius 2009-2016 Z4   Mumbai  2011              44000  Electric   \n",
       "\n",
       "     Transmission Owner_Type Mileage  Engine  Power  Seats  New_Price  Price  \n",
       "4446    Automatic      First     NaN    72.0   41.0    5.0      13.58  13.00  \n",
       "4904    Automatic      First     NaN  1798.0   73.0    5.0      24.01  12.75  "
      ]
     },
     "execution_count": 24,
     "metadata": {},
     "output_type": "execute_result"
    }
   ],
   "source": [
    "#the two columns with NAN will be filled with median\n",
    "data[data[\"Mileage\"].isna()]"
   ]
  },
  {
   "cell_type": "code",
   "execution_count": 25,
   "id": "8cc1565b",
   "metadata": {},
   "outputs": [],
   "source": [
    "#fixing the missing values in milleage, seats,engine and power\n",
    "data['Mileage'] =data['Mileage'].fillna(data['Mileage'].median())"
   ]
  },
  {
   "cell_type": "code",
   "execution_count": 26,
   "id": "ad9899fe",
   "metadata": {},
   "outputs": [],
   "source": [
    "#fixing the missing values in milleage, seats,engine and power\n",
    "data['Seats'] =data['Seats'].fillna(data['Seats'].median())"
   ]
  },
  {
   "cell_type": "code",
   "execution_count": 27,
   "id": "a83bf36c",
   "metadata": {},
   "outputs": [],
   "source": [
    "#fixing the missing values in milleage, seats,engine and power\n",
    "data['Engine'] =data['Engine'].fillna(data['Engine'].median())"
   ]
  },
  {
   "cell_type": "code",
   "execution_count": 28,
   "id": "eda9d308",
   "metadata": {},
   "outputs": [],
   "source": [
    "#fixing the missing values in milleage, seats,engine and power\n",
    "data['Power'] =data['Power'].fillna(data['Power'].median())"
   ]
  },
  {
   "cell_type": "code",
   "execution_count": 29,
   "id": "a4be149a",
   "metadata": {},
   "outputs": [
    {
     "data": {
      "text/plain": [
       "0"
      ]
     },
     "execution_count": 29,
     "metadata": {},
     "output_type": "execute_result"
    }
   ],
   "source": [
    "#no missing values now\n",
    "data['Mileage'].isnull().sum()"
   ]
  },
  {
   "cell_type": "code",
   "execution_count": 30,
   "id": "6e667872",
   "metadata": {},
   "outputs": [
    {
     "data": {
      "text/plain": [
       "Name                    0\n",
       "Location                0\n",
       "Year                    0\n",
       "Kilometers_Driven       0\n",
       "Fuel_Type               0\n",
       "Transmission            0\n",
       "Owner_Type              0\n",
       "Mileage                 0\n",
       "Engine                  0\n",
       "Power                   0\n",
       "Seats                   0\n",
       "New_Price               0\n",
       "Price                1233\n",
       "dtype: int64"
      ]
     },
     "execution_count": 30,
     "metadata": {},
     "output_type": "execute_result"
    }
   ],
   "source": [
    "#now we have only missing values in our target which we will drop\n",
    "data.isnull().sum()"
   ]
  },
  {
   "cell_type": "code",
   "execution_count": 42,
   "id": "d51b0cc8",
   "metadata": {},
   "outputs": [
    {
     "name": "stdout",
     "output_type": "stream",
     "text": [
      "<class 'pandas.core.frame.DataFrame'>\n",
      "Int64Index: 7252 entries, 0 to 7252\n",
      "Data columns (total 13 columns):\n",
      " #   Column             Non-Null Count  Dtype  \n",
      "---  ------             --------------  -----  \n",
      " 0   Name               7252 non-null   object \n",
      " 1   Location           7252 non-null   object \n",
      " 2   Year               7252 non-null   int64  \n",
      " 3   Kilometers_Driven  7252 non-null   int64  \n",
      " 4   Fuel_Type          7252 non-null   object \n",
      " 5   Transmission       7252 non-null   object \n",
      " 6   Owner_Type         7252 non-null   object \n",
      " 7   Mileage            7252 non-null   object \n",
      " 8   Engine             7252 non-null   float64\n",
      " 9   Power              7252 non-null   float64\n",
      " 10  Seats              7252 non-null   float64\n",
      " 11  New_Price          7252 non-null   float64\n",
      " 12  Price              6019 non-null   float64\n",
      "dtypes: float64(5), int64(2), object(6)\n",
      "memory usage: 793.2+ KB\n"
     ]
    }
   ],
   "source": [
    "data.info()"
   ]
  },
  {
   "cell_type": "code",
   "execution_count": 61,
   "id": "9713fd40",
   "metadata": {},
   "outputs": [],
   "source": [
    "#converting mileage column to float\n",
    "data['Mileage'] = data['Mileage'].astype(str).astype(float)"
   ]
  },
  {
   "cell_type": "code",
   "execution_count": 45,
   "id": "8492de63",
   "metadata": {},
   "outputs": [
    {
     "data": {
      "text/plain": [
       "Name                    0\n",
       "Location                0\n",
       "Year                    0\n",
       "Kilometers_Driven       0\n",
       "Fuel_Type               0\n",
       "Transmission            0\n",
       "Owner_Type              0\n",
       "Mileage                 0\n",
       "Engine                  0\n",
       "Power                   0\n",
       "Seats                   0\n",
       "New_Price               0\n",
       "Price                1233\n",
       "dtype: int64"
      ]
     },
     "execution_count": 45,
     "metadata": {},
     "output_type": "execute_result"
    }
   ],
   "source": [
    "data.isnull().sum()"
   ]
  },
  {
   "cell_type": "code",
   "execution_count": 52,
   "id": "d584dc16",
   "metadata": {},
   "outputs": [],
   "source": [
    "#dropping the missing values in price\n",
    "data.dropna(inplace = True)"
   ]
  },
  {
   "cell_type": "code",
   "execution_count": 53,
   "id": "4a46e72c",
   "metadata": {},
   "outputs": [
    {
     "data": {
      "text/plain": [
       "Name                 0\n",
       "Location             0\n",
       "Year                 0\n",
       "Kilometers_Driven    0\n",
       "Fuel_Type            0\n",
       "Transmission         0\n",
       "Owner_Type           0\n",
       "Mileage              0\n",
       "Engine               0\n",
       "Power                0\n",
       "Seats                0\n",
       "New_Price            0\n",
       "Price                0\n",
       "dtype: int64"
      ]
     },
     "execution_count": 53,
     "metadata": {},
     "output_type": "execute_result"
    }
   ],
   "source": [
    "data.isnull().sum()"
   ]
  },
  {
   "cell_type": "code",
   "execution_count": 54,
   "id": "3943016d",
   "metadata": {},
   "outputs": [
    {
     "data": {
      "text/plain": [
       "0        1.75\n",
       "1       12.50\n",
       "2        4.50\n",
       "3        6.00\n",
       "4       17.74\n",
       "        ...  \n",
       "6014     4.75\n",
       "6015     4.00\n",
       "6016     2.90\n",
       "6017     2.65\n",
       "6018     2.50\n",
       "Name: Price, Length: 6019, dtype: float64"
      ]
     },
     "execution_count": 54,
     "metadata": {},
     "output_type": "execute_result"
    }
   ],
   "source": [
    "#checking the price column\n",
    "data['Price']"
   ]
  },
  {
   "cell_type": "code",
   "execution_count": 62,
   "id": "d76c392d",
   "metadata": {},
   "outputs": [
    {
     "name": "stdout",
     "output_type": "stream",
     "text": [
      "<class 'pandas.core.frame.DataFrame'>\n",
      "Int64Index: 6019 entries, 0 to 6018\n",
      "Data columns (total 13 columns):\n",
      " #   Column             Non-Null Count  Dtype  \n",
      "---  ------             --------------  -----  \n",
      " 0   Name               6019 non-null   object \n",
      " 1   Location           6019 non-null   object \n",
      " 2   Year               6019 non-null   int64  \n",
      " 3   Kilometers_Driven  6019 non-null   int64  \n",
      " 4   Fuel_Type          6019 non-null   object \n",
      " 5   Transmission       6019 non-null   object \n",
      " 6   Owner_Type         6019 non-null   object \n",
      " 7   Mileage            6019 non-null   float64\n",
      " 8   Engine             6019 non-null   float64\n",
      " 9   Power              6019 non-null   float64\n",
      " 10  Seats              6019 non-null   float64\n",
      " 11  New_Price          6019 non-null   float64\n",
      " 12  Price              6019 non-null   float64\n",
      "dtypes: float64(6), int64(2), object(5)\n",
      "memory usage: 658.3+ KB\n"
     ]
    }
   ],
   "source": [
    "#to get more info on the data\n",
    "data.info()"
   ]
  },
  {
   "cell_type": "code",
   "execution_count": 105,
   "id": "77ec3e98",
   "metadata": {},
   "outputs": [
    {
     "data": {
      "text/plain": [
       "<AxesSubplot:>"
      ]
     },
     "execution_count": 105,
     "metadata": {},
     "output_type": "execute_result"
    },
    {
     "data": {
      "image/png": "[encoded data removed]",
      "text/plain": [
       "<Figure size 864x720 with 1 Axes>"
      ]
     },
     "metadata": {
      "needs_background": "light"
     },
     "output_type": "display_data"
    }
   ],
   "source": [
    "plt.figure(figsize=(12,10))\n",
    "sns.boxplot(data=data, palette='rainbow', orient ='h')"
   ]
  },
  {
   "cell_type": "code",
   "execution_count": 106,
   "id": "9dc9f9ca",
   "metadata": {},
   "outputs": [],
   "source": [
    "#treating outliers\n",
    "data = data[data['Kilometers_Driven']< 6000000]"
   ]
  },
  {
   "cell_type": "code",
   "execution_count": 107,
   "id": "8eff8f72",
   "metadata": {},
   "outputs": [
    {
     "data": {
      "text/plain": [
       "<AxesSubplot:>"
      ]
     },
     "execution_count": 107,
     "metadata": {},
     "output_type": "execute_result"
    },
    {
     "data": {
      "image/png": "[encoded data removed]",
      "text/plain": [
       "<Figure size 432x288 with 1 Axes>"
      ]
     },
     "metadata": {
      "needs_background": "light"
     },
     "output_type": "display_data"
    }
   ],
   "source": [
    "#checking for outliers\n",
    "sns.boxplot(data=data[\"Kilometers_Driven\"], orient=\"h\")"
   ]
  },
  {
   "cell_type": "code",
   "execution_count": 108,
   "id": "74b754c6",
   "metadata": {},
   "outputs": [
    {
     "data": {
      "text/plain": [
       "(6018, 13)"
      ]
     },
     "execution_count": 108,
     "metadata": {},
     "output_type": "execute_result"
    }
   ],
   "source": [
    "data.shape"
   ]
  },
  {
   "cell_type": "markdown",
   "id": "c490f05b",
   "metadata": {},
   "source": [
    "Building a machine model"
   ]
  },
  {
   "cell_type": "code",
   "execution_count": 73,
   "id": "652cb951",
   "metadata": {},
   "outputs": [
    {
     "name": "stdout",
     "output_type": "stream",
     "text": [
      "<class 'pandas.core.frame.DataFrame'>\n",
      "Int64Index: 6018 entries, 0 to 6018\n",
      "Data columns (total 13 columns):\n",
      " #   Column             Non-Null Count  Dtype  \n",
      "---  ------             --------------  -----  \n",
      " 0   Name               6018 non-null   object \n",
      " 1   Location           6018 non-null   object \n",
      " 2   Year               6018 non-null   int64  \n",
      " 3   Kilometers_Driven  6018 non-null   int64  \n",
      " 4   Fuel_Type          6018 non-null   object \n",
      " 5   Transmission       6018 non-null   object \n",
      " 6   Owner_Type         6018 non-null   object \n",
      " 7   Mileage            6018 non-null   float64\n",
      " 8   Engine             6018 non-null   float64\n",
      " 9   Power              6018 non-null   float64\n",
      " 10  Seats              6018 non-null   float64\n",
      " 11  New_Price          6018 non-null   float64\n",
      " 12  Price              6018 non-null   float64\n",
      "dtypes: float64(6), int64(2), object(5)\n",
      "memory usage: 787.3+ KB\n"
     ]
    }
   ],
   "source": [
    "data.info()"
   ]
  },
  {
   "cell_type": "code",
   "execution_count": 74,
   "id": "51d47611",
   "metadata": {},
   "outputs": [],
   "source": [
    "#machine learning doesnt take text, so we have to encode i\n",
    "\n",
    "#create instance of label encoder\n",
    "lab = LabelEncoder()\n",
    "\n",
    "#perform label encoding on 'Fuel_Type' column\n",
    "data['Fuel_Type']= lab.fit_transform(data['Fuel_Type'])"
   ]
  },
  {
   "cell_type": "code",
   "execution_count": 75,
   "id": "a7ce8979",
   "metadata": {},
   "outputs": [
    {
     "name": "stderr",
     "output_type": "stream",
     "text": [
      "C:\\Users\\halimat badmus_bashi\\Anaconda3\\lib\\site-packages\\sklearn\\preprocessing\\_label.py:116: DataConversionWarning: A column-vector y was passed when a 1d array was expected. Please change the shape of y to (n_samples, ), for example using ravel().\n",
      "  y = column_or_1d(y, warn=True)\n"
     ]
    }
   ],
   "source": [
    "#machine learning doesnt take text, so we have to encode i\n",
    "\n",
    "#create instance of label encoder\n",
    "lab = LabelEncoder()\n",
    "\n",
    "#perform label encoding on 'Location' column\n",
    "data.loc[:,['Location']] = lab.fit_transform(data.loc[:,['Location']])"
   ]
  },
  {
   "cell_type": "code",
   "execution_count": 76,
   "id": "06da782c",
   "metadata": {},
   "outputs": [],
   "source": [
    "#machine learning doesnt take text, so we have to encode i\n",
    "\n",
    "#create instance of label encoder\n",
    "lab = LabelEncoder()\n",
    "\n",
    "#perform label encoding on 'Year' column\n",
    "data.loc[:,['Year']] = lab.fit_transform(data.loc[:,['Year']])"
   ]
  },
  {
   "cell_type": "code",
   "execution_count": 77,
   "id": "57d121f5",
   "metadata": {},
   "outputs": [],
   "source": [
    "#machine learning doesnt take text, so we have to encode i\n",
    "\n",
    "#create instance of label encoder\n",
    "lab = LabelEncoder()\n",
    "\n",
    "#perform label encoding on 'Transmission' column\n",
    "data.loc[:,['Transmission']] = lab.fit_transform(data.loc[:,['Transmission']])"
   ]
  },
  {
   "cell_type": "code",
   "execution_count": 78,
   "id": "18a2ef21",
   "metadata": {},
   "outputs": [],
   "source": [
    "#machine learning doesnt take text, so we have to encode i\n",
    "\n",
    "#create instance of label encoder\n",
    "lab = LabelEncoder()\n",
    "\n",
    "#perform label encoding on 'Owner_Type' column\n",
    "data.loc[:,['Owner_Type']] = lab.fit_transform(data.loc[:,['Owner_Type']])"
   ]
  },
  {
   "cell_type": "code",
   "execution_count": 111,
   "id": "e7ef71ce",
   "metadata": {},
   "outputs": [
    {
     "name": "stderr",
     "output_type": "stream",
     "text": [
      "C:\\Users\\halimat badmus_bashi\\Anaconda3\\lib\\site-packages\\sklearn\\preprocessing\\_label.py:116: DataConversionWarning: A column-vector y was passed when a 1d array was expected. Please change the shape of y to (n_samples, ), for example using ravel().\n",
      "  y = column_or_1d(y, warn=True)\n"
     ]
    }
   ],
   "source": [
    "#machine learning doesnt take text, so we have to encode i\n",
    "\n",
    "#create instance of label encoder\n",
    "lab = LabelEncoder()\n",
    "\n",
    "#perform label encoding on 'Transmission' column\n",
    "data.loc[:,['Name']] = lab.fit_transform(data.loc[:,['Name']])"
   ]
  },
  {
   "cell_type": "code",
   "execution_count": 112,
   "id": "4446e5e1",
   "metadata": {},
   "outputs": [
    {
     "data": {
      "text/html": [
       "<div>\n",
       "<style scoped>\n",
       "    .dataframe tbody tr th:only-of-type {\n",
       "        vertical-align: middle;\n",
       "    }\n",
       "\n",
       "    .dataframe tbody tr th {\n",
       "        vertical-align: top;\n",
       "    }\n",
       "\n",
       "    .dataframe thead th {\n",
       "        text-align: right;\n",
       "    }\n",
       "</style>\n",
       "<table border=\"1\" class=\"dataframe\">\n",
       "  <thead>\n",
       "    <tr style=\"text-align: right;\">\n",
       "      <th></th>\n",
       "      <th>Name</th>\n",
       "      <th>Location</th>\n",
       "      <th>Year</th>\n",
       "      <th>Kilometers_Driven</th>\n",
       "      <th>Fuel_Type</th>\n",
       "      <th>Transmission</th>\n",
       "      <th>Owner_Type</th>\n",
       "      <th>Mileage</th>\n",
       "      <th>Engine</th>\n",
       "      <th>Power</th>\n",
       "      <th>Seats</th>\n",
       "      <th>New_Price</th>\n",
       "      <th>Price</th>\n",
       "    </tr>\n",
       "  </thead>\n",
       "  <tbody>\n",
       "    <tr>\n",
       "      <th>0</th>\n",
       "      <td>1200</td>\n",
       "      <td>9</td>\n",
       "      <td>12</td>\n",
       "      <td>72000</td>\n",
       "      <td>0</td>\n",
       "      <td>1</td>\n",
       "      <td>0</td>\n",
       "      <td>26.60</td>\n",
       "      <td>998.0</td>\n",
       "      <td>58.16</td>\n",
       "      <td>5.0</td>\n",
       "      <td>5.51</td>\n",
       "      <td>1.75</td>\n",
       "    </tr>\n",
       "    <tr>\n",
       "      <th>1</th>\n",
       "      <td>512</td>\n",
       "      <td>10</td>\n",
       "      <td>17</td>\n",
       "      <td>41000</td>\n",
       "      <td>1</td>\n",
       "      <td>1</td>\n",
       "      <td>0</td>\n",
       "      <td>19.67</td>\n",
       "      <td>1582.0</td>\n",
       "      <td>126.20</td>\n",
       "      <td>5.0</td>\n",
       "      <td>16.06</td>\n",
       "      <td>12.50</td>\n",
       "    </tr>\n",
       "    <tr>\n",
       "      <th>2</th>\n",
       "      <td>486</td>\n",
       "      <td>2</td>\n",
       "      <td>13</td>\n",
       "      <td>46000</td>\n",
       "      <td>4</td>\n",
       "      <td>1</td>\n",
       "      <td>0</td>\n",
       "      <td>18.20</td>\n",
       "      <td>1199.0</td>\n",
       "      <td>88.70</td>\n",
       "      <td>5.0</td>\n",
       "      <td>8.61</td>\n",
       "      <td>4.50</td>\n",
       "    </tr>\n",
       "    <tr>\n",
       "      <th>3</th>\n",
       "      <td>1059</td>\n",
       "      <td>2</td>\n",
       "      <td>14</td>\n",
       "      <td>87000</td>\n",
       "      <td>1</td>\n",
       "      <td>1</td>\n",
       "      <td>0</td>\n",
       "      <td>20.77</td>\n",
       "      <td>1248.0</td>\n",
       "      <td>88.76</td>\n",
       "      <td>7.0</td>\n",
       "      <td>11.27</td>\n",
       "      <td>6.00</td>\n",
       "    </tr>\n",
       "    <tr>\n",
       "      <th>4</th>\n",
       "      <td>23</td>\n",
       "      <td>3</td>\n",
       "      <td>15</td>\n",
       "      <td>40670</td>\n",
       "      <td>1</td>\n",
       "      <td>0</td>\n",
       "      <td>2</td>\n",
       "      <td>15.20</td>\n",
       "      <td>1968.0</td>\n",
       "      <td>140.80</td>\n",
       "      <td>5.0</td>\n",
       "      <td>53.14</td>\n",
       "      <td>17.74</td>\n",
       "    </tr>\n",
       "  </tbody>\n",
       "</table>\n",
       "</div>"
      ],
      "text/plain": [
       "   Name  Location  Year  Kilometers_Driven  Fuel_Type  Transmission  \\\n",
       "0  1200         9    12              72000          0             1   \n",
       "1   512        10    17              41000          1             1   \n",
       "2   486         2    13              46000          4             1   \n",
       "3  1059         2    14              87000          1             1   \n",
       "4    23         3    15              40670          1             0   \n",
       "\n",
       "   Owner_Type  Mileage  Engine   Power  Seats  New_Price  Price  \n",
       "0           0    26.60   998.0   58.16    5.0       5.51   1.75  \n",
       "1           0    19.67  1582.0  126.20    5.0      16.06  12.50  \n",
       "2           0    18.20  1199.0   88.70    5.0       8.61   4.50  \n",
       "3           0    20.77  1248.0   88.76    7.0      11.27   6.00  \n",
       "4           2    15.20  1968.0  140.80    5.0      53.14  17.74  "
      ]
     },
     "execution_count": 112,
     "metadata": {},
     "output_type": "execute_result"
    }
   ],
   "source": [
    "data.head()"
   ]
  },
  {
   "cell_type": "code",
   "execution_count": 114,
   "id": "15d4f4d8",
   "metadata": {},
   "outputs": [
    {
     "data": {
      "text/plain": [
       "924     49\n",
       "1159    45\n",
       "419     34\n",
       "1135    34\n",
       "1160    31\n",
       "        ..\n",
       "879      1\n",
       "713      1\n",
       "1675     1\n",
       "106      1\n",
       "932      1\n",
       "Name: Name, Length: 1876, dtype: int64"
      ]
     },
     "execution_count": 114,
     "metadata": {},
     "output_type": "execute_result"
    }
   ],
   "source": [
    "data['Name'].value_counts()"
   ]
  },
  {
   "cell_type": "code",
   "execution_count": 118,
   "id": "e06f07b1",
   "metadata": {},
   "outputs": [],
   "source": [
    "#dropping the target variable\n",
    "X = data.drop(['Price'], axis =1)\n",
    "Y=data['Price']"
   ]
  },
  {
   "cell_type": "code",
   "execution_count": 119,
   "id": "4027e502",
   "metadata": {},
   "outputs": [],
   "source": [
    "#splitting the data sets into test and train\n",
    "X_train,X_test,Y_train,Y_test = train_test_split(X,Y, test_size = 0.2,random_state =0)"
   ]
  },
  {
   "cell_type": "code",
   "execution_count": 120,
   "id": "6564d889",
   "metadata": {},
   "outputs": [
    {
     "data": {
      "text/plain": [
       "(1204, 12)"
      ]
     },
     "execution_count": 120,
     "metadata": {},
     "output_type": "execute_result"
    }
   ],
   "source": [
    "#Checking the test and train shape\n",
    "X_test.shape"
   ]
  },
  {
   "cell_type": "code",
   "execution_count": 121,
   "id": "b8f9ad73",
   "metadata": {},
   "outputs": [
    {
     "data": {
      "text/plain": [
       "(4814, 12)"
      ]
     },
     "execution_count": 121,
     "metadata": {},
     "output_type": "execute_result"
    }
   ],
   "source": [
    "X_train.shape"
   ]
  },
  {
   "cell_type": "code",
   "execution_count": 122,
   "id": "1d92e2fd",
   "metadata": {},
   "outputs": [
    {
     "data": {
      "text/html": [
       "<div>\n",
       "<style scoped>\n",
       "    .dataframe tbody tr th:only-of-type {\n",
       "        vertical-align: middle;\n",
       "    }\n",
       "\n",
       "    .dataframe tbody tr th {\n",
       "        vertical-align: top;\n",
       "    }\n",
       "\n",
       "    .dataframe thead th {\n",
       "        text-align: right;\n",
       "    }\n",
       "</style>\n",
       "<table border=\"1\" class=\"dataframe\">\n",
       "  <thead>\n",
       "    <tr style=\"text-align: right;\">\n",
       "      <th></th>\n",
       "      <th>Name</th>\n",
       "      <th>Location</th>\n",
       "      <th>Year</th>\n",
       "      <th>Kilometers_Driven</th>\n",
       "      <th>Fuel_Type</th>\n",
       "      <th>Transmission</th>\n",
       "      <th>Owner_Type</th>\n",
       "      <th>Mileage</th>\n",
       "      <th>Engine</th>\n",
       "      <th>Power</th>\n",
       "      <th>Seats</th>\n",
       "      <th>New_Price</th>\n",
       "    </tr>\n",
       "  </thead>\n",
       "  <tbody>\n",
       "    <tr>\n",
       "      <th>1771</th>\n",
       "      <td>1098</td>\n",
       "      <td>9</td>\n",
       "      <td>16</td>\n",
       "      <td>59451</td>\n",
       "      <td>4</td>\n",
       "      <td>1</td>\n",
       "      <td>0</td>\n",
       "      <td>18.50</td>\n",
       "      <td>1197.0</td>\n",
       "      <td>85.8</td>\n",
       "      <td>5.0</td>\n",
       "      <td>7.88</td>\n",
       "    </tr>\n",
       "    <tr>\n",
       "      <th>36</th>\n",
       "      <td>1183</td>\n",
       "      <td>7</td>\n",
       "      <td>20</td>\n",
       "      <td>50075</td>\n",
       "      <td>1</td>\n",
       "      <td>1</td>\n",
       "      <td>0</td>\n",
       "      <td>24.30</td>\n",
       "      <td>1248.0</td>\n",
       "      <td>88.5</td>\n",
       "      <td>5.0</td>\n",
       "      <td>11.12</td>\n",
       "    </tr>\n",
       "    <tr>\n",
       "      <th>806</th>\n",
       "      <td>270</td>\n",
       "      <td>3</td>\n",
       "      <td>19</td>\n",
       "      <td>59636</td>\n",
       "      <td>1</td>\n",
       "      <td>0</td>\n",
       "      <td>0</td>\n",
       "      <td>10.91</td>\n",
       "      <td>3198.0</td>\n",
       "      <td>197.0</td>\n",
       "      <td>7.0</td>\n",
       "      <td>35.29</td>\n",
       "    </tr>\n",
       "    <tr>\n",
       "      <th>1442</th>\n",
       "      <td>419</td>\n",
       "      <td>4</td>\n",
       "      <td>11</td>\n",
       "      <td>231673</td>\n",
       "      <td>4</td>\n",
       "      <td>1</td>\n",
       "      <td>0</td>\n",
       "      <td>17.00</td>\n",
       "      <td>1497.0</td>\n",
       "      <td>118.0</td>\n",
       "      <td>5.0</td>\n",
       "      <td>13.58</td>\n",
       "    </tr>\n",
       "    <tr>\n",
       "      <th>1819</th>\n",
       "      <td>48</td>\n",
       "      <td>5</td>\n",
       "      <td>17</td>\n",
       "      <td>56000</td>\n",
       "      <td>1</td>\n",
       "      <td>0</td>\n",
       "      <td>0</td>\n",
       "      <td>14.16</td>\n",
       "      <td>1968.0</td>\n",
       "      <td>174.3</td>\n",
       "      <td>5.0</td>\n",
       "      <td>53.14</td>\n",
       "    </tr>\n",
       "  </tbody>\n",
       "</table>\n",
       "</div>"
      ],
      "text/plain": [
       "      Name  Location  Year  Kilometers_Driven  Fuel_Type  Transmission  \\\n",
       "1771  1098         9    16              59451          4             1   \n",
       "36    1183         7    20              50075          1             1   \n",
       "806    270         3    19              59636          1             0   \n",
       "1442   419         4    11             231673          4             1   \n",
       "1819    48         5    17              56000          1             0   \n",
       "\n",
       "      Owner_Type  Mileage  Engine  Power  Seats  New_Price  \n",
       "1771           0    18.50  1197.0   85.8    5.0       7.88  \n",
       "36             0    24.30  1248.0   88.5    5.0      11.12  \n",
       "806            0    10.91  3198.0  197.0    7.0      35.29  \n",
       "1442           0    17.00  1497.0  118.0    5.0      13.58  \n",
       "1819           0    14.16  1968.0  174.3    5.0      53.14  "
      ]
     },
     "execution_count": 122,
     "metadata": {},
     "output_type": "execute_result"
    }
   ],
   "source": [
    "#checking to see price has been dropped\n",
    "X_train.head()"
   ]
  },
  {
   "cell_type": "code",
   "execution_count": 123,
   "id": "105755a8",
   "metadata": {},
   "outputs": [
    {
     "data": {
      "text/plain": [
       "(0.0, 160.0)"
      ]
     },
     "execution_count": 123,
     "metadata": {},
     "output_type": "execute_result"
    },
    {
     "data": {
      "image/png": "[encoded data removed]",
      "text/plain": [
       "<Figure size 1080x576 with 1 Axes>"
      ]
     },
     "metadata": {
      "needs_background": "light"
     },
     "output_type": "display_data"
    }
   ],
   "source": [
    "#This shows the price is right_skewed\n",
    "plt.subplots(figsize=(15,8))\n",
    "sns.histplot(Y_train)\n",
    "plt.xlim([0,160])"
   ]
  },
  {
   "cell_type": "code",
   "execution_count": 138,
   "id": "a97645b9",
   "metadata": {},
   "outputs": [
    {
     "name": "stderr",
     "output_type": "stream",
     "text": [
      "C:\\Users\\halimat badmus_bashi\\Anaconda3\\lib\\site-packages\\pandas\\core\\arraylike.py:364: RuntimeWarning: divide by zero encountered in log\n",
      "  result = getattr(ufunc, method)(*inputs, **kwargs)\n",
      "C:\\Users\\halimat badmus_bashi\\Anaconda3\\lib\\site-packages\\pandas\\core\\arraylike.py:364: RuntimeWarning: invalid value encountered in log\n",
      "  result = getattr(ufunc, method)(*inputs, **kwargs)\n"
     ]
    }
   ],
   "source": [
    "#the data is right skewed, so we need to scale the target\n",
    "data['Price'] = np.log(data['Price'])"
   ]
  },
  {
   "cell_type": "code",
   "execution_count": 139,
   "id": "0a8b8a84",
   "metadata": {
    "scrolled": true
   },
   "outputs": [
    {
     "data": {
      "text/html": [
       "<div>\n",
       "<style scoped>\n",
       "    .dataframe tbody tr th:only-of-type {\n",
       "        vertical-align: middle;\n",
       "    }\n",
       "\n",
       "    .dataframe tbody tr th {\n",
       "        vertical-align: top;\n",
       "    }\n",
       "\n",
       "    .dataframe thead th {\n",
       "        text-align: right;\n",
       "    }\n",
       "</style>\n",
       "<table border=\"1\" class=\"dataframe\">\n",
       "  <thead>\n",
       "    <tr style=\"text-align: right;\">\n",
       "      <th></th>\n",
       "      <th>Name</th>\n",
       "      <th>Location</th>\n",
       "      <th>Year</th>\n",
       "      <th>Kilometers_Driven</th>\n",
       "      <th>Fuel_Type</th>\n",
       "      <th>Transmission</th>\n",
       "      <th>Owner_Type</th>\n",
       "      <th>Mileage</th>\n",
       "      <th>Engine</th>\n",
       "      <th>Power</th>\n",
       "      <th>Seats</th>\n",
       "      <th>New_Price</th>\n",
       "      <th>Price</th>\n",
       "    </tr>\n",
       "  </thead>\n",
       "  <tbody>\n",
       "    <tr>\n",
       "      <th>count</th>\n",
       "      <td>6018.000000</td>\n",
       "      <td>6018.000000</td>\n",
       "      <td>6018.000000</td>\n",
       "      <td>6018.000000</td>\n",
       "      <td>6018.000000</td>\n",
       "      <td>6018.000000</td>\n",
       "      <td>6018.000000</td>\n",
       "      <td>6018.000000</td>\n",
       "      <td>6018.000000</td>\n",
       "      <td>6018.000000</td>\n",
       "      <td>6018.000000</td>\n",
       "      <td>6018.000000</td>\n",
       "      <td>5941.000000</td>\n",
       "    </tr>\n",
       "    <tr>\n",
       "      <th>mean</th>\n",
       "      <td>916.102692</td>\n",
       "      <td>5.620306</td>\n",
       "      <td>15.357594</td>\n",
       "      <td>57668.047690</td>\n",
       "      <td>2.363244</td>\n",
       "      <td>0.714357</td>\n",
       "      <td>0.379528</td>\n",
       "      <td>18.135329</td>\n",
       "      <td>1620.281157</td>\n",
       "      <td>112.771505</td>\n",
       "      <td>5.276836</td>\n",
       "      <td>21.494276</td>\n",
       "      <td>-inf</td>\n",
       "    </tr>\n",
       "    <tr>\n",
       "      <th>std</th>\n",
       "      <td>529.764268</td>\n",
       "      <td>2.955810</td>\n",
       "      <td>3.269677</td>\n",
       "      <td>37878.783175</td>\n",
       "      <td>1.504961</td>\n",
       "      <td>0.451758</td>\n",
       "      <td>0.818512</td>\n",
       "      <td>4.581823</td>\n",
       "      <td>599.424157</td>\n",
       "      <td>53.283280</td>\n",
       "      <td>0.806405</td>\n",
       "      <td>24.331095</td>\n",
       "      <td>NaN</td>\n",
       "    </tr>\n",
       "    <tr>\n",
       "      <th>min</th>\n",
       "      <td>0.000000</td>\n",
       "      <td>0.000000</td>\n",
       "      <td>0.000000</td>\n",
       "      <td>171.000000</td>\n",
       "      <td>0.000000</td>\n",
       "      <td>0.000000</td>\n",
       "      <td>0.000000</td>\n",
       "      <td>0.000000</td>\n",
       "      <td>72.000000</td>\n",
       "      <td>34.200000</td>\n",
       "      <td>0.000000</td>\n",
       "      <td>3.910000</td>\n",
       "      <td>-inf</td>\n",
       "    </tr>\n",
       "    <tr>\n",
       "      <th>25%</th>\n",
       "      <td>472.000000</td>\n",
       "      <td>3.000000</td>\n",
       "      <td>13.000000</td>\n",
       "      <td>34000.000000</td>\n",
       "      <td>1.000000</td>\n",
       "      <td>0.000000</td>\n",
       "      <td>0.000000</td>\n",
       "      <td>15.170000</td>\n",
       "      <td>1198.000000</td>\n",
       "      <td>78.000000</td>\n",
       "      <td>5.000000</td>\n",
       "      <td>7.880000</td>\n",
       "      <td>0.225351</td>\n",
       "    </tr>\n",
       "    <tr>\n",
       "      <th>50%</th>\n",
       "      <td>924.000000</td>\n",
       "      <td>6.000000</td>\n",
       "      <td>16.000000</td>\n",
       "      <td>53000.000000</td>\n",
       "      <td>1.000000</td>\n",
       "      <td>1.000000</td>\n",
       "      <td>0.000000</td>\n",
       "      <td>18.160000</td>\n",
       "      <td>1493.000000</td>\n",
       "      <td>94.000000</td>\n",
       "      <td>5.000000</td>\n",
       "      <td>11.300000</td>\n",
       "      <td>0.554153</td>\n",
       "    </tr>\n",
       "    <tr>\n",
       "      <th>75%</th>\n",
       "      <td>1314.000000</td>\n",
       "      <td>8.000000</td>\n",
       "      <td>18.000000</td>\n",
       "      <td>73000.000000</td>\n",
       "      <td>4.000000</td>\n",
       "      <td>1.000000</td>\n",
       "      <td>0.000000</td>\n",
       "      <td>21.100000</td>\n",
       "      <td>1969.000000</td>\n",
       "      <td>138.030000</td>\n",
       "      <td>5.000000</td>\n",
       "      <td>21.770000</td>\n",
       "      <td>0.834032</td>\n",
       "    </tr>\n",
       "    <tr>\n",
       "      <th>max</th>\n",
       "      <td>1875.000000</td>\n",
       "      <td>10.000000</td>\n",
       "      <td>21.000000</td>\n",
       "      <td>775000.000000</td>\n",
       "      <td>4.000000</td>\n",
       "      <td>1.000000</td>\n",
       "      <td>3.000000</td>\n",
       "      <td>33.540000</td>\n",
       "      <td>5998.000000</td>\n",
       "      <td>560.000000</td>\n",
       "      <td>10.000000</td>\n",
       "      <td>375.000000</td>\n",
       "      <td>1.624361</td>\n",
       "    </tr>\n",
       "  </tbody>\n",
       "</table>\n",
       "</div>"
      ],
      "text/plain": [
       "              Name     Location         Year  Kilometers_Driven    Fuel_Type  \\\n",
       "count  6018.000000  6018.000000  6018.000000        6018.000000  6018.000000   \n",
       "mean    916.102692     5.620306    15.357594       57668.047690     2.363244   \n",
       "std     529.764268     2.955810     3.269677       37878.783175     1.504961   \n",
       "min       0.000000     0.000000     0.000000         171.000000     0.000000   \n",
       "25%     472.000000     3.000000    13.000000       34000.000000     1.000000   \n",
       "50%     924.000000     6.000000    16.000000       53000.000000     1.000000   \n",
       "75%    1314.000000     8.000000    18.000000       73000.000000     4.000000   \n",
       "max    1875.000000    10.000000    21.000000      775000.000000     4.000000   \n",
       "\n",
       "       Transmission   Owner_Type      Mileage       Engine        Power  \\\n",
       "count   6018.000000  6018.000000  6018.000000  6018.000000  6018.000000   \n",
       "mean       0.714357     0.379528    18.135329  1620.281157   112.771505   \n",
       "std        0.451758     0.818512     4.581823   599.424157    53.283280   \n",
       "min        0.000000     0.000000     0.000000    72.000000    34.200000   \n",
       "25%        0.000000     0.000000    15.170000  1198.000000    78.000000   \n",
       "50%        1.000000     0.000000    18.160000  1493.000000    94.000000   \n",
       "75%        1.000000     0.000000    21.100000  1969.000000   138.030000   \n",
       "max        1.000000     3.000000    33.540000  5998.000000   560.000000   \n",
       "\n",
       "             Seats    New_Price        Price  \n",
       "count  6018.000000  6018.000000  5941.000000  \n",
       "mean      5.276836    21.494276         -inf  \n",
       "std       0.806405    24.331095          NaN  \n",
       "min       0.000000     3.910000         -inf  \n",
       "25%       5.000000     7.880000     0.225351  \n",
       "50%       5.000000    11.300000     0.554153  \n",
       "75%       5.000000    21.770000     0.834032  \n",
       "max      10.000000   375.000000     1.624361  "
      ]
     },
     "execution_count": 139,
     "metadata": {},
     "output_type": "execute_result"
    }
   ],
   "source": [
    "#checking the descriptive statistics of the data\n",
    "data.describe()"
   ]
  },
  {
   "cell_type": "code",
   "execution_count": 140,
   "id": "19711747",
   "metadata": {},
   "outputs": [
    {
     "data": {
      "text/html": [
       "<div>\n",
       "<style scoped>\n",
       "    .dataframe tbody tr th:only-of-type {\n",
       "        vertical-align: middle;\n",
       "    }\n",
       "\n",
       "    .dataframe tbody tr th {\n",
       "        vertical-align: top;\n",
       "    }\n",
       "\n",
       "    .dataframe thead th {\n",
       "        text-align: right;\n",
       "    }\n",
       "</style>\n",
       "<table border=\"1\" class=\"dataframe\">\n",
       "  <thead>\n",
       "    <tr style=\"text-align: right;\">\n",
       "      <th></th>\n",
       "      <th>Name</th>\n",
       "      <th>Location</th>\n",
       "      <th>Year</th>\n",
       "      <th>Kilometers_Driven</th>\n",
       "      <th>Fuel_Type</th>\n",
       "      <th>Transmission</th>\n",
       "      <th>Owner_Type</th>\n",
       "      <th>Mileage</th>\n",
       "      <th>Engine</th>\n",
       "      <th>Power</th>\n",
       "      <th>Seats</th>\n",
       "      <th>New_Price</th>\n",
       "      <th>Price</th>\n",
       "    </tr>\n",
       "  </thead>\n",
       "  <tbody>\n",
       "    <tr>\n",
       "      <th>Name</th>\n",
       "      <td>1.000000</td>\n",
       "      <td>0.025079</td>\n",
       "      <td>0.013237</td>\n",
       "      <td>0.105401</td>\n",
       "      <td>-0.069202</td>\n",
       "      <td>0.137766</td>\n",
       "      <td>-0.027865</td>\n",
       "      <td>-0.018870</td>\n",
       "      <td>0.020365</td>\n",
       "      <td>-0.148060</td>\n",
       "      <td>0.157058</td>\n",
       "      <td>-0.133627</td>\n",
       "      <td>-0.025682</td>\n",
       "    </tr>\n",
       "    <tr>\n",
       "      <th>Location</th>\n",
       "      <td>0.025079</td>\n",
       "      <td>1.000000</td>\n",
       "      <td>-0.019895</td>\n",
       "      <td>-0.068416</td>\n",
       "      <td>0.114885</td>\n",
       "      <td>0.039866</td>\n",
       "      <td>-0.033988</td>\n",
       "      <td>0.018680</td>\n",
       "      <td>-0.078178</td>\n",
       "      <td>-0.065087</td>\n",
       "      <td>-0.037682</td>\n",
       "      <td>-0.063298</td>\n",
       "      <td>-0.123161</td>\n",
       "    </tr>\n",
       "    <tr>\n",
       "      <th>Year</th>\n",
       "      <td>0.013237</td>\n",
       "      <td>-0.019895</td>\n",
       "      <td>1.000000</td>\n",
       "      <td>-0.448519</td>\n",
       "      <td>-0.129380</td>\n",
       "      <td>-0.096796</td>\n",
       "      <td>-0.386121</td>\n",
       "      <td>0.321660</td>\n",
       "      <td>-0.050537</td>\n",
       "      <td>0.026149</td>\n",
       "      <td>0.015269</td>\n",
       "      <td>-0.007689</td>\n",
       "      <td>0.540120</td>\n",
       "    </tr>\n",
       "    <tr>\n",
       "      <th>Kilometers_Driven</th>\n",
       "      <td>0.105401</td>\n",
       "      <td>-0.068416</td>\n",
       "      <td>-0.448519</td>\n",
       "      <td>1.000000</td>\n",
       "      <td>-0.222501</td>\n",
       "      <td>0.106542</td>\n",
       "      <td>0.205700</td>\n",
       "      <td>-0.143888</td>\n",
       "      <td>0.154392</td>\n",
       "      <td>-0.000468</td>\n",
       "      <td>0.209183</td>\n",
       "      <td>0.001297</td>\n",
       "      <td>-0.172679</td>\n",
       "    </tr>\n",
       "    <tr>\n",
       "      <th>Fuel_Type</th>\n",
       "      <td>-0.069202</td>\n",
       "      <td>0.114885</td>\n",
       "      <td>-0.129380</td>\n",
       "      <td>-0.222501</td>\n",
       "      <td>1.000000</td>\n",
       "      <td>0.125015</td>\n",
       "      <td>0.042951</td>\n",
       "      <td>-0.152210</td>\n",
       "      <td>-0.401641</td>\n",
       "      <td>-0.266099</td>\n",
       "      <td>-0.299381</td>\n",
       "      <td>-0.282174</td>\n",
       "      <td>-0.386445</td>\n",
       "    </tr>\n",
       "    <tr>\n",
       "      <th>Transmission</th>\n",
       "      <td>0.137766</td>\n",
       "      <td>0.039866</td>\n",
       "      <td>-0.096796</td>\n",
       "      <td>0.106542</td>\n",
       "      <td>0.125015</td>\n",
       "      <td>1.000000</td>\n",
       "      <td>0.002880</td>\n",
       "      <td>0.333045</td>\n",
       "      <td>-0.498913</td>\n",
       "      <td>-0.640983</td>\n",
       "      <td>0.074764</td>\n",
       "      <td>-0.621987</td>\n",
       "      <td>-0.507391</td>\n",
       "    </tr>\n",
       "    <tr>\n",
       "      <th>Owner_Type</th>\n",
       "      <td>-0.027865</td>\n",
       "      <td>-0.033988</td>\n",
       "      <td>-0.386121</td>\n",
       "      <td>0.205700</td>\n",
       "      <td>0.042951</td>\n",
       "      <td>0.002880</td>\n",
       "      <td>1.000000</td>\n",
       "      <td>-0.154231</td>\n",
       "      <td>0.048045</td>\n",
       "      <td>0.023823</td>\n",
       "      <td>0.002192</td>\n",
       "      <td>0.034861</td>\n",
       "      <td>-0.211005</td>\n",
       "    </tr>\n",
       "    <tr>\n",
       "      <th>Mileage</th>\n",
       "      <td>-0.018870</td>\n",
       "      <td>0.018680</td>\n",
       "      <td>0.321660</td>\n",
       "      <td>-0.143888</td>\n",
       "      <td>-0.152210</td>\n",
       "      <td>0.333045</td>\n",
       "      <td>-0.154231</td>\n",
       "      <td>1.000000</td>\n",
       "      <td>-0.586492</td>\n",
       "      <td>-0.495452</td>\n",
       "      <td>-0.299667</td>\n",
       "      <td>-0.414971</td>\n",
       "      <td>-0.162687</td>\n",
       "    </tr>\n",
       "    <tr>\n",
       "      <th>Engine</th>\n",
       "      <td>0.020365</td>\n",
       "      <td>-0.078178</td>\n",
       "      <td>-0.050537</td>\n",
       "      <td>0.154392</td>\n",
       "      <td>-0.401641</td>\n",
       "      <td>-0.498913</td>\n",
       "      <td>0.048045</td>\n",
       "      <td>-0.586492</td>\n",
       "      <td>1.000000</td>\n",
       "      <td>0.860387</td>\n",
       "      <td>0.393674</td>\n",
       "      <td>0.697406</td>\n",
       "      <td>0.572805</td>\n",
       "    </tr>\n",
       "    <tr>\n",
       "      <th>Power</th>\n",
       "      <td>-0.148060</td>\n",
       "      <td>-0.065087</td>\n",
       "      <td>0.026149</td>\n",
       "      <td>-0.000468</td>\n",
       "      <td>-0.266099</td>\n",
       "      <td>-0.640983</td>\n",
       "      <td>0.023823</td>\n",
       "      <td>-0.495452</td>\n",
       "      <td>0.860387</td>\n",
       "      <td>1.000000</td>\n",
       "      <td>0.103202</td>\n",
       "      <td>0.791851</td>\n",
       "      <td>0.620239</td>\n",
       "    </tr>\n",
       "    <tr>\n",
       "      <th>Seats</th>\n",
       "      <td>0.157058</td>\n",
       "      <td>-0.037682</td>\n",
       "      <td>0.015269</td>\n",
       "      <td>0.209183</td>\n",
       "      <td>-0.299381</td>\n",
       "      <td>0.074764</td>\n",
       "      <td>0.002192</td>\n",
       "      <td>-0.299667</td>\n",
       "      <td>0.393674</td>\n",
       "      <td>0.103202</td>\n",
       "      <td>1.000000</td>\n",
       "      <td>0.038578</td>\n",
       "      <td>0.166812</td>\n",
       "    </tr>\n",
       "    <tr>\n",
       "      <th>New_Price</th>\n",
       "      <td>-0.133627</td>\n",
       "      <td>-0.063298</td>\n",
       "      <td>-0.007689</td>\n",
       "      <td>0.001297</td>\n",
       "      <td>-0.282174</td>\n",
       "      <td>-0.621987</td>\n",
       "      <td>0.034861</td>\n",
       "      <td>-0.414971</td>\n",
       "      <td>0.697406</td>\n",
       "      <td>0.791851</td>\n",
       "      <td>0.038578</td>\n",
       "      <td>1.000000</td>\n",
       "      <td>0.549594</td>\n",
       "    </tr>\n",
       "    <tr>\n",
       "      <th>Price</th>\n",
       "      <td>-0.025682</td>\n",
       "      <td>-0.123161</td>\n",
       "      <td>0.540120</td>\n",
       "      <td>-0.172679</td>\n",
       "      <td>-0.386445</td>\n",
       "      <td>-0.507391</td>\n",
       "      <td>-0.211005</td>\n",
       "      <td>-0.162687</td>\n",
       "      <td>0.572805</td>\n",
       "      <td>0.620239</td>\n",
       "      <td>0.166812</td>\n",
       "      <td>0.549594</td>\n",
       "      <td>1.000000</td>\n",
       "    </tr>\n",
       "  </tbody>\n",
       "</table>\n",
       "</div>"
      ],
      "text/plain": [
       "                       Name  Location      Year  Kilometers_Driven  Fuel_Type  \\\n",
       "Name               1.000000  0.025079  0.013237           0.105401  -0.069202   \n",
       "Location           0.025079  1.000000 -0.019895          -0.068416   0.114885   \n",
       "Year               0.013237 -0.019895  1.000000          -0.448519  -0.129380   \n",
       "Kilometers_Driven  0.105401 -0.068416 -0.448519           1.000000  -0.222501   \n",
       "Fuel_Type         -0.069202  0.114885 -0.129380          -0.222501   1.000000   \n",
       "Transmission       0.137766  0.039866 -0.096796           0.106542   0.125015   \n",
       "Owner_Type        -0.027865 -0.033988 -0.386121           0.205700   0.042951   \n",
       "Mileage           -0.018870  0.018680  0.321660          -0.143888  -0.152210   \n",
       "Engine             0.020365 -0.078178 -0.050537           0.154392  -0.401641   \n",
       "Power             -0.148060 -0.065087  0.026149          -0.000468  -0.266099   \n",
       "Seats              0.157058 -0.037682  0.015269           0.209183  -0.299381   \n",
       "New_Price         -0.133627 -0.063298 -0.007689           0.001297  -0.282174   \n",
       "Price             -0.025682 -0.123161  0.540120          -0.172679  -0.386445   \n",
       "\n",
       "                   Transmission  Owner_Type   Mileage    Engine     Power  \\\n",
       "Name                   0.137766   -0.027865 -0.018870  0.020365 -0.148060   \n",
       "Location               0.039866   -0.033988  0.018680 -0.078178 -0.065087   \n",
       "Year                  -0.096796   -0.386121  0.321660 -0.050537  0.026149   \n",
       "Kilometers_Driven      0.106542    0.205700 -0.143888  0.154392 -0.000468   \n",
       "Fuel_Type              0.125015    0.042951 -0.152210 -0.401641 -0.266099   \n",
       "Transmission           1.000000    0.002880  0.333045 -0.498913 -0.640983   \n",
       "Owner_Type             0.002880    1.000000 -0.154231  0.048045  0.023823   \n",
       "Mileage                0.333045   -0.154231  1.000000 -0.586492 -0.495452   \n",
       "Engine                -0.498913    0.048045 -0.586492  1.000000  0.860387   \n",
       "Power                 -0.640983    0.023823 -0.495452  0.860387  1.000000   \n",
       "Seats                  0.074764    0.002192 -0.299667  0.393674  0.103202   \n",
       "New_Price             -0.621987    0.034861 -0.414971  0.697406  0.791851   \n",
       "Price                 -0.507391   -0.211005 -0.162687  0.572805  0.620239   \n",
       "\n",
       "                      Seats  New_Price     Price  \n",
       "Name               0.157058  -0.133627 -0.025682  \n",
       "Location          -0.037682  -0.063298 -0.123161  \n",
       "Year               0.015269  -0.007689  0.540120  \n",
       "Kilometers_Driven  0.209183   0.001297 -0.172679  \n",
       "Fuel_Type         -0.299381  -0.282174 -0.386445  \n",
       "Transmission       0.074764  -0.621987 -0.507391  \n",
       "Owner_Type         0.002192   0.034861 -0.211005  \n",
       "Mileage           -0.299667  -0.414971 -0.162687  \n",
       "Engine             0.393674   0.697406  0.572805  \n",
       "Power              0.103202   0.791851  0.620239  \n",
       "Seats              1.000000   0.038578  0.166812  \n",
       "New_Price          0.038578   1.000000  0.549594  \n",
       "Price              0.166812   0.549594  1.000000  "
      ]
     },
     "execution_count": 140,
     "metadata": {},
     "output_type": "execute_result"
    }
   ],
   "source": [
    "#checking the correlation of the data after cleaning\n",
    "data.corr()"
   ]
  },
  {
   "cell_type": "code",
   "execution_count": 141,
   "id": "fcfcd094",
   "metadata": {},
   "outputs": [],
   "source": [
    "#we will now normalize our data before building the model\n",
    "scaler = StandardScaler()\n",
    "X_train_sc = scaler.fit_transform(X_train)\n",
    "X_test_sc = scaler.transform(X_test)"
   ]
  },
  {
   "cell_type": "code",
   "execution_count": 142,
   "id": "7b97a975",
   "metadata": {},
   "outputs": [
    {
     "data": {
      "text/html": [
       "<style>#sk-container-id-2 {color: black;background-color: white;}#sk-container-id-2 pre{padding: 0;}#sk-container-id-2 div.sk-toggleable {background-color: white;}#sk-container-id-2 label.sk-toggleable__label {cursor: pointer;display: block;width: 100%;margin-bottom: 0;padding: 0.3em;box-sizing: border-box;text-align: center;}#sk-container-id-2 label.sk-toggleable__label-arrow:before {content: \"▸\";float: left;margin-right: 0.25em;color: #696969;}#sk-container-id-2 label.sk-toggleable__label-arrow:hover:before {color: black;}#sk-container-id-2 div.sk-estimator:hover label.sk-toggleable__label-arrow:before {color: black;}#sk-container-id-2 div.sk-toggleable__content {max-height: 0;max-width: 0;overflow: hidden;text-align: left;background-color: #f0f8ff;}#sk-container-id-2 div.sk-toggleable__content pre {margin: 0.2em;color: black;border-radius: 0.25em;background-color: #f0f8ff;}#sk-container-id-2 input.sk-toggleable__control:checked~div.sk-toggleable__content {max-height: 200px;max-width: 100%;overflow: auto;}#sk-container-id-2 input.sk-toggleable__control:checked~label.sk-toggleable__label-arrow:before {content: \"▾\";}#sk-container-id-2 div.sk-estimator input.sk-toggleable__control:checked~label.sk-toggleable__label {background-color: #d4ebff;}#sk-container-id-2 div.sk-label input.sk-toggleable__control:checked~label.sk-toggleable__label {background-color: #d4ebff;}#sk-container-id-2 input.sk-hidden--visually {border: 0;clip: rect(1px 1px 1px 1px);clip: rect(1px, 1px, 1px, 1px);height: 1px;margin: -1px;overflow: hidden;padding: 0;position: absolute;width: 1px;}#sk-container-id-2 div.sk-estimator {font-family: monospace;background-color: #f0f8ff;border: 1px dotted black;border-radius: 0.25em;box-sizing: border-box;margin-bottom: 0.5em;}#sk-container-id-2 div.sk-estimator:hover {background-color: #d4ebff;}#sk-container-id-2 div.sk-parallel-item::after {content: \"\";width: 100%;border-bottom: 1px solid gray;flex-grow: 1;}#sk-container-id-2 div.sk-label:hover label.sk-toggleable__label {background-color: #d4ebff;}#sk-container-id-2 div.sk-serial::before {content: \"\";position: absolute;border-left: 1px solid gray;box-sizing: border-box;top: 0;bottom: 0;left: 50%;z-index: 0;}#sk-container-id-2 div.sk-serial {display: flex;flex-direction: column;align-items: center;background-color: white;padding-right: 0.2em;padding-left: 0.2em;position: relative;}#sk-container-id-2 div.sk-item {position: relative;z-index: 1;}#sk-container-id-2 div.sk-parallel {display: flex;align-items: stretch;justify-content: center;background-color: white;position: relative;}#sk-container-id-2 div.sk-item::before, #sk-container-id-2 div.sk-parallel-item::before {content: \"\";position: absolute;border-left: 1px solid gray;box-sizing: border-box;top: 0;bottom: 0;left: 50%;z-index: -1;}#sk-container-id-2 div.sk-parallel-item {display: flex;flex-direction: column;z-index: 1;position: relative;background-color: white;}#sk-container-id-2 div.sk-parallel-item:first-child::after {align-self: flex-end;width: 50%;}#sk-container-id-2 div.sk-parallel-item:last-child::after {align-self: flex-start;width: 50%;}#sk-container-id-2 div.sk-parallel-item:only-child::after {width: 0;}#sk-container-id-2 div.sk-dashed-wrapped {border: 1px dashed gray;margin: 0 0.4em 0.5em 0.4em;box-sizing: border-box;padding-bottom: 0.4em;background-color: white;}#sk-container-id-2 div.sk-label label {font-family: monospace;font-weight: bold;display: inline-block;line-height: 1.2em;}#sk-container-id-2 div.sk-label-container {text-align: center;}#sk-container-id-2 div.sk-container {/* jupyter's `normalize.less` sets `[hidden] { display: none; }` but bootstrap.min.css set `[hidden] { display: none !important; }` so we also need the `!important` here to be able to override the default hidden behavior on the sphinx rendered scikit-learn.org. See: https://github.com/scikit-learn/scikit-learn/issues/21755 */display: inline-block !important;position: relative;}#sk-container-id-2 div.sk-text-repr-fallback {display: none;}</style><div id=\"sk-container-id-2\" class=\"sk-top-container\"><div class=\"sk-text-repr-fallback\"><pre>LinearRegression()</pre><b>In a Jupyter environment, please rerun this cell to show the HTML representation or trust the notebook. <br />On GitHub, the HTML representation is unable to render, please try loading this page with nbviewer.org.</b></div><div class=\"sk-container\" hidden><div class=\"sk-item\"><div class=\"sk-estimator sk-toggleable\"><input class=\"sk-toggleable__control sk-hidden--visually\" id=\"sk-estimator-id-2\" type=\"checkbox\" checked><label for=\"sk-estimator-id-2\" class=\"sk-toggleable__label sk-toggleable__label-arrow\">LinearRegression</label><div class=\"sk-toggleable__content\"><pre>LinearRegression()</pre></div></div></div></div></div>"
      ],
      "text/plain": [
       "LinearRegression()"
      ]
     },
     "execution_count": 142,
     "metadata": {},
     "output_type": "execute_result"
    }
   ],
   "source": [
    "#creating instance for linear regression\n",
    "lin_reg = LinearRegression()\n",
    "lin_reg.fit(X_train_sc, Y_train)"
   ]
  },
  {
   "cell_type": "code",
   "execution_count": 143,
   "id": "c8d3c539",
   "metadata": {},
   "outputs": [
    {
     "data": {
      "text/plain": [
       "array([ 0.23908179, -0.65178444,  3.06881333, -0.76698115, -0.8243672 ,\n",
       "       -0.38845898, -0.04618882, -0.71687753,  0.5163263 ,  3.72880966,\n",
       "       -0.5986473 ,  4.33603904])"
      ]
     },
     "execution_count": 143,
     "metadata": {},
     "output_type": "execute_result"
    }
   ],
   "source": [
    "#checking the coefficients of the lin_reg\n",
    "lin_reg.coef_"
   ]
  },
  {
   "cell_type": "code",
   "execution_count": 145,
   "id": "336f992a",
   "metadata": {},
   "outputs": [
    {
     "name": "stdout",
     "output_type": "stream",
     "text": [
      "Train Accuracy: 0.7554\n",
      "Test Accuracy: 0.7534\n"
     ]
    }
   ],
   "source": [
    "#checking the accuracy score\n",
    "print('Train Accuracy: {:.4f}'.format(lin_reg.score(X_train_sc,Y_train)))\n",
    "print('Test Accuracy: {:.4f}'.format(lin_reg.score(X_test_sc,Y_test)))"
   ]
  },
  {
   "cell_type": "code",
   "execution_count": 146,
   "id": "6b52bb05",
   "metadata": {},
   "outputs": [
    {
     "data": {
      "text/plain": [
       "0.7534194996271855"
      ]
     },
     "execution_count": 146,
     "metadata": {},
     "output_type": "execute_result"
    }
   ],
   "source": [
    "#checking r2 score, we need to make predictions first\n",
    "pred = lin_reg.predict(X_test_sc)\n",
    "r2_score(Y_test, pred)"
   ]
  },
  {
   "cell_type": "code",
   "execution_count": 147,
   "id": "49333f68",
   "metadata": {},
   "outputs": [],
   "source": [
    "#making predictions to check our error\n",
    "predict_train = lin_reg.predict(X_train_sc)\n",
    "predict_test = lin_reg.predict(X_test_sc)"
   ]
  },
  {
   "cell_type": "code",
   "execution_count": 148,
   "id": "58d2e319",
   "metadata": {},
   "outputs": [
    {
     "name": "stdout",
     "output_type": "stream",
     "text": [
      "Train error: 29.7142\n",
      "Test error: 33.8731\n"
     ]
    }
   ],
   "source": [
    "#checking the mean squared error\n",
    "print('Train error: {:.4f}'.format(mean_squared_error(Y_train,predict_train)))\n",
    "print('Test error: {:.4f}'.format(mean_squared_error(Y_test,predict_test)))"
   ]
  },
  {
   "cell_type": "code",
   "execution_count": 149,
   "id": "7c77a543",
   "metadata": {},
   "outputs": [],
   "source": [
    "#using ridge regression model to analyse and determine whuch works better\n",
    "from sklearn.linear_model import Ridge"
   ]
  },
  {
   "cell_type": "code",
   "execution_count": 152,
   "id": "69608035",
   "metadata": {},
   "outputs": [
    {
     "name": "stdout",
     "output_type": "stream",
     "text": [
      "Train Accuracy: 0.7554\n",
      "Test Accuracy: 0.7534\n"
     ]
    }
   ],
   "source": [
    "#ridge is giving us exactly same as linear regression as it cant find any variables with multi collinearity\n",
    "ridge = Ridge()\n",
    "ridge.fit(X_train_sc,Y_train)\n",
    "print('Train Accuracy: {:.4f}'.format(ridge.score(X_train_sc,Y_train)))\n",
    "print('Test Accuracy: {:.4f}'.format(ridge.score(X_test_sc,Y_test)))"
   ]
  },
  {
   "cell_type": "code",
   "execution_count": 157,
   "id": "e6815275",
   "metadata": {},
   "outputs": [],
   "source": [
    "# function to compute different metrics to check performance of a regression model\n",
    "model_perform_train = model_performance_regression(lin_reg, X_train_sc, Y_train)"
   ]
  },
  {
   "cell_type": "code",
   "execution_count": 158,
   "id": "a9a25bea",
   "metadata": {},
   "outputs": [
    {
     "data": {
      "text/html": [
       "<div>\n",
       "<style scoped>\n",
       "    .dataframe tbody tr th:only-of-type {\n",
       "        vertical-align: middle;\n",
       "    }\n",
       "\n",
       "    .dataframe tbody tr th {\n",
       "        vertical-align: top;\n",
       "    }\n",
       "\n",
       "    .dataframe thead th {\n",
       "        text-align: right;\n",
       "    }\n",
       "</style>\n",
       "<table border=\"1\" class=\"dataframe\">\n",
       "  <thead>\n",
       "    <tr style=\"text-align: right;\">\n",
       "      <th></th>\n",
       "      <th>RMSE</th>\n",
       "      <th>MAE</th>\n",
       "      <th>R-squared</th>\n",
       "      <th>Adj. R-squared</th>\n",
       "    </tr>\n",
       "  </thead>\n",
       "  <tbody>\n",
       "    <tr>\n",
       "      <th>0</th>\n",
       "      <td>5.451076</td>\n",
       "      <td>3.100062</td>\n",
       "      <td>0.755377</td>\n",
       "      <td>0.754766</td>\n",
       "    </tr>\n",
       "  </tbody>\n",
       "</table>\n",
       "</div>"
      ],
      "text/plain": [
       "       RMSE       MAE  R-squared  Adj. R-squared\n",
       "0  5.451076  3.100062   0.755377        0.754766"
      ]
     },
     "execution_count": 158,
     "metadata": {},
     "output_type": "execute_result"
    }
   ],
   "source": [
    "model_perform_train"
   ]
  },
  {
   "cell_type": "code",
   "execution_count": 159,
   "id": "7fff6fe9",
   "metadata": {},
   "outputs": [],
   "source": [
    "# function to compute different metrics to check performance of a regression model\n",
    "model_perform_test = model_performance_regression(lin_reg, X_test_sc, Y_test)"
   ]
  },
  {
   "cell_type": "code",
   "execution_count": 160,
   "id": "5df777b6",
   "metadata": {},
   "outputs": [
    {
     "data": {
      "text/html": [
       "<div>\n",
       "<style scoped>\n",
       "    .dataframe tbody tr th:only-of-type {\n",
       "        vertical-align: middle;\n",
       "    }\n",
       "\n",
       "    .dataframe tbody tr th {\n",
       "        vertical-align: top;\n",
       "    }\n",
       "\n",
       "    .dataframe thead th {\n",
       "        text-align: right;\n",
       "    }\n",
       "</style>\n",
       "<table border=\"1\" class=\"dataframe\">\n",
       "  <thead>\n",
       "    <tr style=\"text-align: right;\">\n",
       "      <th></th>\n",
       "      <th>RMSE</th>\n",
       "      <th>MAE</th>\n",
       "      <th>R-squared</th>\n",
       "      <th>Adj. R-squared</th>\n",
       "    </tr>\n",
       "  </thead>\n",
       "  <tbody>\n",
       "    <tr>\n",
       "      <th>0</th>\n",
       "      <td>5.820059</td>\n",
       "      <td>3.186455</td>\n",
       "      <td>0.753419</td>\n",
       "      <td>0.750935</td>\n",
       "    </tr>\n",
       "  </tbody>\n",
       "</table>\n",
       "</div>"
      ],
      "text/plain": [
       "       RMSE       MAE  R-squared  Adj. R-squared\n",
       "0  5.820059  3.186455   0.753419        0.750935"
      ]
     },
     "execution_count": 160,
     "metadata": {},
     "output_type": "execute_result"
    }
   ],
   "source": [
    "model_perform_test"
   ]
  },
  {
   "cell_type": "markdown",
   "id": "7763fdea",
   "metadata": {},
   "source": [
    "\n",
    "The model is able to explain 75% of the variation in the the used car prices prediction"
   ]
  },
  {
   "cell_type": "code",
   "execution_count": 164,
   "id": "eb59876b",
   "metadata": {},
   "outputs": [],
   "source": [
    "# function to compute adjusted R-squared\n",
    "adj_r2 = adj_r2_score(X_train_sc, Y_train, predict_train)"
   ]
  },
  {
   "cell_type": "code",
   "execution_count": 165,
   "id": "3845138a",
   "metadata": {},
   "outputs": [
    {
     "data": {
      "text/plain": [
       "0.7547656630899733"
      ]
     },
     "execution_count": 165,
     "metadata": {},
     "output_type": "execute_result"
    }
   ],
   "source": [
    "adj_r2"
   ]
  },
  {
   "cell_type": "markdown",
   "id": "8d7da66b",
   "metadata": {},
   "source": [
    "With the help of this Machine learning model, car sellers will be able to determine the values of used cars brought into their workshop by clients.\n",
    "This will help them save time on manual processes and boost overall effectiveness."
   ]
  },
  {
   "cell_type": "code",
   "execution_count": null,
   "id": "9c2a4790",
   "metadata": {},
   "outputs": [],
   "source": []
  }
 ],
 "metadata": {
  "kernelspec": {
   "display_name": "Python 3 (ipykernel)",
   "language": "python",
   "name": "python3"
  },
  "language_info": {
   "codemirror_mode": {
    "name": "ipython",
    "version": 3
   },
   "file_extension": ".py",
   "mimetype": "text/x-python",
   "name": "python",
   "nbconvert_exporter": "python",
   "pygments_lexer": "ipython3",
   "version": "3.9.7"
  }
 },
 "nbformat": 4,
 "nbformat_minor": 5
}
